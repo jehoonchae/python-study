{
 "cells": [
  {
   "cell_type": "code",
   "execution_count": 1,
   "metadata": {},
   "outputs": [],
   "source": [
    "import re"
   ]
  },
  {
   "cell_type": "code",
   "execution_count": 2,
   "metadata": {},
   "outputs": [],
   "source": [
    "# Example 1: use of re for BS\n",
    "from bs4 import BeautifulSoup"
   ]
  },
  {
   "cell_type": "code",
   "execution_count": 3,
   "metadata": {},
   "outputs": [],
   "source": [
    "file = open('html_test.html', 'r', encoding = 'utf-8')\n",
    "text=file.read()\n",
    "file.close()"
   ]
  },
  {
   "cell_type": "code",
   "execution_count": 4,
   "metadata": {},
   "outputs": [
    {
     "data": {
      "text/plain": [
       "'\\ufeff<html lang=\"ko\">\\n\\t<head>\\n\\t\\t<title> Online Data Scraping Test</title>\\n\\t</head>\\n\\n\\t<body>\\n\\t\\t<p class=\"title\">HTML code for the lecture</p>\\n\\t\\t<p class=\"description\">This code will be used as HTML source code for the BS lecture. For more detailed information about BS, you can click\\n\\t\\t\\t<a class=\"BS_English\" href=\"http://www.pythonforbeginners.com/python-on-the-web/beautifulsoup-4-python/\"> BS4 for beginners</a></p>\\n\\t\\t<p class=\"description\">한국어로 된 정보를 원한다면\\n\\t\\t\\t<a class=\"BS_Korean\" href=\"http://coreapython.hosting.paran.com/etc/beautifulsoup4.html\"> BS4 for beginners (한글버전)</a>을 이용하세요</p>\\n\\t\\t<div>\\n\\t\\t\\t<p><span class=\"red_price\">35.6</span></p>\\n\\t\\t\\t<p><span class=\"blue_price\">43.2</span></p>\\n\\t\\t\\t<p><span method=\"manual\">24.3</span></p>\\n\\t\\t</div>\\n\\t</body>\\n</html>\\n\\n\\n'"
      ]
     },
     "execution_count": 4,
     "metadata": {},
     "output_type": "execute_result"
    }
   ],
   "source": [
    "text"
   ]
  },
  {
   "cell_type": "code",
   "execution_count": 5,
   "metadata": {},
   "outputs": [],
   "source": [
    "soup=BeautifulSoup(text, 'lxml')"
   ]
  },
  {
   "cell_type": "code",
   "execution_count": 6,
   "metadata": {},
   "outputs": [
    {
     "name": "stdout",
     "output_type": "stream",
     "text": [
      "[<span class=\"red_price\">35.6</span>]\n"
     ]
    }
   ],
   "source": [
    "# Searching the tree\n",
    "print(soup.find_all('span',class_='red_price'))"
   ]
  },
  {
   "cell_type": "code",
   "execution_count": 3,
   "metadata": {},
   "outputs": [
    {
     "name": "stdout",
     "output_type": "stream",
     "text": [
      "[<span class=\"red_price\">35.6</span>]\n",
      "[<span class=\"red_price\">35.6</span>, <span class=\"blue_price\">43.2</span>]\n"
     ]
    }
   ],
   "source": [
    "print(soup.find_all('span',attrs={'class':re.compile(r'\\w+_price')}))"
   ]
  },
  {
   "cell_type": "code",
   "execution_count": null,
   "metadata": {
    "collapsed": true
   },
   "outputs": [],
   "source": []
  }
 ],
 "metadata": {
  "kernelspec": {
   "display_name": "Python 3",
   "language": "python",
   "name": "python3"
  },
  "language_info": {
   "codemirror_mode": {
    "name": "ipython",
    "version": 3
   },
   "file_extension": ".py",
   "mimetype": "text/x-python",
   "name": "python",
   "nbconvert_exporter": "python",
   "pygments_lexer": "ipython3",
   "version": "3.8.1"
  }
 },
 "nbformat": 4,
 "nbformat_minor": 2
}
