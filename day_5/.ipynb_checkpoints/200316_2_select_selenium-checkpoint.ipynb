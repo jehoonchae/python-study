{
 "cells": [
  {
   "cell_type": "code",
   "execution_count": 1,
   "metadata": {},
   "outputs": [],
   "source": [
    "from bs4 import BeautifulSoup\n",
    "from selenium import webdriver\n",
    "from selenium.webdriver.support.ui import Select"
   ]
  },
  {
   "cell_type": "code",
   "execution_count": 2,
   "metadata": {},
   "outputs": [],
   "source": [
    "url = 'http://www.truedelta.com/'"
   ]
  },
  {
   "cell_type": "code",
   "execution_count": 3,
   "metadata": {},
   "outputs": [
    {
     "ename": "WebDriverException",
     "evalue": "Message: 'chromedriver' executable needs to be in PATH. Please see https://sites.google.com/a/chromium.org/chromedriver/home\n",
     "output_type": "error",
     "traceback": [
      "\u001b[0;31m---------------------------------------------------------------------------\u001b[0m",
      "\u001b[0;31mFileNotFoundError\u001b[0m                         Traceback (most recent call last)",
      "\u001b[0;32m~/opt/anaconda3/lib/python3.7/site-packages/selenium/webdriver/common/service.py\u001b[0m in \u001b[0;36mstart\u001b[0;34m(self)\u001b[0m\n\u001b[1;32m     75\u001b[0m                                             \u001b[0mstderr\u001b[0m\u001b[0;34m=\u001b[0m\u001b[0mself\u001b[0m\u001b[0;34m.\u001b[0m\u001b[0mlog_file\u001b[0m\u001b[0;34m,\u001b[0m\u001b[0;34m\u001b[0m\u001b[0;34m\u001b[0m\u001b[0m\n\u001b[0;32m---> 76\u001b[0;31m                                             stdin=PIPE)\n\u001b[0m\u001b[1;32m     77\u001b[0m         \u001b[0;32mexcept\u001b[0m \u001b[0mTypeError\u001b[0m\u001b[0;34m:\u001b[0m\u001b[0;34m\u001b[0m\u001b[0;34m\u001b[0m\u001b[0m\n",
      "\u001b[0;32m~/opt/anaconda3/lib/python3.7/subprocess.py\u001b[0m in \u001b[0;36m__init__\u001b[0;34m(self, args, bufsize, executable, stdin, stdout, stderr, preexec_fn, close_fds, shell, cwd, env, universal_newlines, startupinfo, creationflags, restore_signals, start_new_session, pass_fds, encoding, errors, text)\u001b[0m\n\u001b[1;32m    774\u001b[0m                                 \u001b[0merrread\u001b[0m\u001b[0;34m,\u001b[0m \u001b[0merrwrite\u001b[0m\u001b[0;34m,\u001b[0m\u001b[0;34m\u001b[0m\u001b[0;34m\u001b[0m\u001b[0m\n\u001b[0;32m--> 775\u001b[0;31m                                 restore_signals, start_new_session)\n\u001b[0m\u001b[1;32m    776\u001b[0m         \u001b[0;32mexcept\u001b[0m\u001b[0;34m:\u001b[0m\u001b[0;34m\u001b[0m\u001b[0;34m\u001b[0m\u001b[0m\n",
      "\u001b[0;32m~/opt/anaconda3/lib/python3.7/subprocess.py\u001b[0m in \u001b[0;36m_execute_child\u001b[0;34m(self, args, executable, preexec_fn, close_fds, pass_fds, cwd, env, startupinfo, creationflags, shell, p2cread, p2cwrite, c2pread, c2pwrite, errread, errwrite, restore_signals, start_new_session)\u001b[0m\n\u001b[1;32m   1521\u001b[0m                             \u001b[0merr_msg\u001b[0m \u001b[0;34m+=\u001b[0m \u001b[0;34m': '\u001b[0m \u001b[0;34m+\u001b[0m \u001b[0mrepr\u001b[0m\u001b[0;34m(\u001b[0m\u001b[0merr_filename\u001b[0m\u001b[0;34m)\u001b[0m\u001b[0;34m\u001b[0m\u001b[0;34m\u001b[0m\u001b[0m\n\u001b[0;32m-> 1522\u001b[0;31m                     \u001b[0;32mraise\u001b[0m \u001b[0mchild_exception_type\u001b[0m\u001b[0;34m(\u001b[0m\u001b[0merrno_num\u001b[0m\u001b[0;34m,\u001b[0m \u001b[0merr_msg\u001b[0m\u001b[0;34m,\u001b[0m \u001b[0merr_filename\u001b[0m\u001b[0;34m)\u001b[0m\u001b[0;34m\u001b[0m\u001b[0;34m\u001b[0m\u001b[0m\n\u001b[0m\u001b[1;32m   1523\u001b[0m                 \u001b[0;32mraise\u001b[0m \u001b[0mchild_exception_type\u001b[0m\u001b[0;34m(\u001b[0m\u001b[0merr_msg\u001b[0m\u001b[0;34m)\u001b[0m\u001b[0;34m\u001b[0m\u001b[0;34m\u001b[0m\u001b[0m\n",
      "\u001b[0;31mFileNotFoundError\u001b[0m: [Errno 2] No such file or directory: 'chromedriver': 'chromedriver'",
      "\nDuring handling of the above exception, another exception occurred:\n",
      "\u001b[0;31mWebDriverException\u001b[0m                        Traceback (most recent call last)",
      "\u001b[0;32m<ipython-input-3-b209d50caeec>\u001b[0m in \u001b[0;36m<module>\u001b[0;34m\u001b[0m\n\u001b[0;32m----> 1\u001b[0;31m \u001b[0mdriver\u001b[0m \u001b[0;34m=\u001b[0m \u001b[0mwebdriver\u001b[0m\u001b[0;34m.\u001b[0m\u001b[0mChrome\u001b[0m\u001b[0;34m(\u001b[0m\u001b[0;34m'chromedriver'\u001b[0m\u001b[0;34m)\u001b[0m\u001b[0;34m\u001b[0m\u001b[0;34m\u001b[0m\u001b[0m\n\u001b[0m\u001b[1;32m      2\u001b[0m \u001b[0mdriver\u001b[0m\u001b[0;34m.\u001b[0m\u001b[0mget\u001b[0m\u001b[0;34m(\u001b[0m\u001b[0murl\u001b[0m\u001b[0;34m)\u001b[0m\u001b[0;34m\u001b[0m\u001b[0;34m\u001b[0m\u001b[0m\n\u001b[1;32m      3\u001b[0m \u001b[0mdriver\u001b[0m\u001b[0;34m.\u001b[0m\u001b[0mimplicitly_wait\u001b[0m\u001b[0;34m(\u001b[0m\u001b[0;36m10\u001b[0m\u001b[0;34m)\u001b[0m\u001b[0;34m\u001b[0m\u001b[0;34m\u001b[0m\u001b[0m\n\u001b[1;32m      4\u001b[0m \u001b[0;34m\u001b[0m\u001b[0m\n\u001b[1;32m      5\u001b[0m \u001b[0mselect1\u001b[0m \u001b[0;34m=\u001b[0m \u001b[0mSelect\u001b[0m\u001b[0;34m(\u001b[0m\u001b[0mdriver\u001b[0m\u001b[0;34m.\u001b[0m\u001b[0mfind_element_by_name\u001b[0m\u001b[0;34m(\u001b[0m\u001b[0;34m'results_page'\u001b[0m\u001b[0;34m)\u001b[0m\u001b[0;34m)\u001b[0m  \u001b[0;31m# xpath를 통해 찾을 수도 있고, name을 통해 찾을 수도 있다.\u001b[0m\u001b[0;34m\u001b[0m\u001b[0;34m\u001b[0m\u001b[0m\n",
      "\u001b[0;32m~/opt/anaconda3/lib/python3.7/site-packages/selenium/webdriver/chrome/webdriver.py\u001b[0m in \u001b[0;36m__init__\u001b[0;34m(self, executable_path, port, options, service_args, desired_capabilities, service_log_path, chrome_options, keep_alive)\u001b[0m\n\u001b[1;32m     71\u001b[0m             \u001b[0mservice_args\u001b[0m\u001b[0;34m=\u001b[0m\u001b[0mservice_args\u001b[0m\u001b[0;34m,\u001b[0m\u001b[0;34m\u001b[0m\u001b[0;34m\u001b[0m\u001b[0m\n\u001b[1;32m     72\u001b[0m             log_path=service_log_path)\n\u001b[0;32m---> 73\u001b[0;31m         \u001b[0mself\u001b[0m\u001b[0;34m.\u001b[0m\u001b[0mservice\u001b[0m\u001b[0;34m.\u001b[0m\u001b[0mstart\u001b[0m\u001b[0;34m(\u001b[0m\u001b[0;34m)\u001b[0m\u001b[0;34m\u001b[0m\u001b[0;34m\u001b[0m\u001b[0m\n\u001b[0m\u001b[1;32m     74\u001b[0m \u001b[0;34m\u001b[0m\u001b[0m\n\u001b[1;32m     75\u001b[0m         \u001b[0;32mtry\u001b[0m\u001b[0;34m:\u001b[0m\u001b[0;34m\u001b[0m\u001b[0;34m\u001b[0m\u001b[0m\n",
      "\u001b[0;32m~/opt/anaconda3/lib/python3.7/site-packages/selenium/webdriver/common/service.py\u001b[0m in \u001b[0;36mstart\u001b[0;34m(self)\u001b[0m\n\u001b[1;32m     81\u001b[0m                 raise WebDriverException(\n\u001b[1;32m     82\u001b[0m                     \"'%s' executable needs to be in PATH. %s\" % (\n\u001b[0;32m---> 83\u001b[0;31m                         os.path.basename(self.path), self.start_error_message)\n\u001b[0m\u001b[1;32m     84\u001b[0m                 )\n\u001b[1;32m     85\u001b[0m             \u001b[0;32melif\u001b[0m \u001b[0merr\u001b[0m\u001b[0;34m.\u001b[0m\u001b[0merrno\u001b[0m \u001b[0;34m==\u001b[0m \u001b[0merrno\u001b[0m\u001b[0;34m.\u001b[0m\u001b[0mEACCES\u001b[0m\u001b[0;34m:\u001b[0m\u001b[0;34m\u001b[0m\u001b[0;34m\u001b[0m\u001b[0m\n",
      "\u001b[0;31mWebDriverException\u001b[0m: Message: 'chromedriver' executable needs to be in PATH. Please see https://sites.google.com/a/chromium.org/chromedriver/home\n"
     ]
    }
   ],
   "source": [
    "driver = webdriver.Chrome('chromedriver')\n",
    "driver.get(url)\n",
    "driver.implicitly_wait(10)\n",
    "\n",
    "select1 = Select(driver.find_element_by_name('results_page'))  # xpath를 통해 찾을 수도 있고, name을 통해 찾을 수도 있다. \n",
    "select1.select_by_value('1') # select name 이라는 이름의tag 안 'results_page' 아래에 펼치기를 하면 value 라는 tag 안의 정보를 알 수 있다.\n",
    "\n",
    "select2 = Select(driver.find_element_by_name('brand'))\n",
    "select2.select_by_value('Acura')\n",
    "\n",
    "select3 = Select(driver.find_element_by_name('model'))\n",
    "select3.select_by_value('293')\n",
    "\n",
    "submit_element = driver.find_element_by_xpath('//*[@id=\"show-search\"]/div[5]/input')\n",
    "\n",
    "submit_element.click()\n",
    "\n",
    "html = driver.page_source  # html이라는 변수 안에 최종적으로 내가 봤던 페이지의 소스\n",
    "\n",
    "driver.close()"
   ]
  },
  {
   "cell_type": "code",
   "execution_count": 5,
   "metadata": {},
   "outputs": [
    {
     "name": "stdout",
     "output_type": "stream",
     "text": [
      "<!DOCTYPE html><!--[if lt IE 7 ]> <html lang=\"en\" class=\"no-js ie6\" xmlns:og=\"http://ogp.me/ns#\"\n",
      "      xmlns:fb=\"http://www.facebook.com/2008/fbml\"> <![endif]--><!--[if IE 7 ]>    <html lang=\"en\" class=\"no-js ie7\" xmlns:og=\"http://ogp.me/ns#\"\n",
      "      xmlns:fb=\"http://www.facebook.com/2008/fbml\"> <![endif]--><!--[if IE 8 ]>    <html lang=\"en\" class=\"no-js ie8\" xmlns:og=\"http://ogp.me/ns#\"\n",
      "      xmlns:fb=\"http://www.facebook.com/2008/fbml\"> <![endif]--><!--[if IE 9 ]>    \n",
      "\t<script src=\"http://html5shim.googlecode.com/svn/trunk/html5.js\"></script>\n",
      "\t<html lang=\"en\" class=\"no-js ie9\" xmlns:og=\"http://ogp.me/ns#\"\n",
      "      xmlns:fb=\"http://www.facebook.com/2008/fbml\"> <![endif]--><!--[if (gt IE 9)|!(IE)]>\n",
      "\t<html lang=\"en\" class=\"no-js\" xmlns:og=\"http://ogp.me/ns#\"\n",
      "      xmlns:fb=\"http://www.facebook.com/2008/fbml\"> <![endif]--><html xmlns=\"http://www.w3.org/1999/xhtml\"><head>\n",
      "  <meta charset=\"utf-8\" />\n",
      "  <meta http-equiv=\"content-type\" content=\"text/html; charset=UTF-8\" />\t\n",
      "  <meta http-equiv=\"content-language\" content=\"en\" />\n",
      "  <meta name=\"viewport\" content=\"width=device-width, initial-scale=1.0\" />\n",
      "<!--[if lt IE 8 ]> \n",
      "\t<meta http-equiv=\"X-UA-Compatible\" content=\"IE=edge\"> <![endif]-->\n",
      "<!--[if IE 8 ]>    \n",
      "      <meta http-equiv=\"X-UA-Compatible\" content=\"IE=IE8\"> <![endif]-->\n",
      "<!--[if IE 9 ]>    \n",
      "\t<meta http-equiv=\"X-UA-Compatible\" content=\"IE=IE9\" /> <![endif]-->\n",
      "<!--[if gt IE 9 ]>\n",
      "\t<meta http-equiv=\"X-UA-Compatible\" content=\"IE=edge\"> <![endif]-->\n",
      "<!--[if !IE ]>\n",
      "\t<meta http-equiv=\"X-UA-Compatible\" content=\"chrome=1\"> <![endif]-->\t  \n",
      "<meta name=\"google-site-verification\" content=\"rQf5hVBxvRiOKCGalq7rErZ4IMKwKZH9aqLRzPCAvUo\" />\n",
      "\t<link rel=\"alternate\" type=\"application/rss+xml\" href=\"https://www.truedelta.com/xml/review_rss.xml\" title=\"Michael Karesh's Car Reviews at TrueDelta\" />\n",
      "<meta property=\"og:type\" content=\"website\" />\n",
      "\n",
      "<meta property=\"og:site_name\" content=\"TrueDelta\" />\n",
      "<meta property=\"fb:admins\" content=\"1211824960,760498632\" />\n",
      "\t<link rel=\"author\" href=\"https://plus.google.com/100497186243012366013\" />\n",
      "\t<link rel=\"meta\" type=\"application/rdf+xml\" title=\"Dublin\" href=\"https://www.truedelta.com/dublin.rdf\" />\n",
      "\t<link rel=\"search\" type=\"application/opensearchdescription+xml\" title=\"Search TrueDelta\" href=\"https://www.truedelta.com/OpenSearch.xml\" />\n",
      "\t  <link type=\"text/css\" rel=\"stylesheet\" media=\"screen\" href=\"https://www.truedelta.com/css/reliability_model_gen.css?v=2\" />\n",
      "\t<link href=\"https://plus.google.com/117293642738369692713\" rel=\"publisher\" />\n",
      "<link rel=\"shortcut icon\" href=\"https://www.truedelta.com/favicon.ico\" type=\"image/x-icon\" />\n",
      "<link rel=\"apple-touch-icon\" href=\"https://www.truedelta.com/apple-touch-icon.png\" />\n",
      "<link rel=\"apple-touch-icon\" sizes=\"57x57\" href=\"https://www.truedelta.com/apple-touch-icon-57x57.png\" />\n",
      "<link rel=\"apple-touch-icon\" sizes=\"60x60\" href=\"https://www.truedelta.com/apple-touch-icon-57x57.png\" />\n",
      "<link rel=\"apple-touch-icon\" sizes=\"72x72\" href=\"https://www.truedelta.com/apple-touch-icon-72x72.png\" />\n",
      "<link rel=\"apple-touch-icon\" sizes=\"76x76\" href=\"https://www.truedelta.com/apple-touch-icon-76x76.png\" />\n",
      "<link rel=\"apple-touch-icon\" sizes=\"114x114\" href=\"https://www.truedelta.com/apple-touch-icon-114x114.png\" />\n",
      "<link rel=\"apple-touch-icon\" sizes=\"120x120\" href=\"https://www.truedelta.com/apple-touch-icon-120x120.png\" />\n",
      "<link rel=\"apple-touch-icon\" sizes=\"144x144\" href=\"https://www.truedelta.com/apple-touch-icon-144x144.png\" />\n",
      "<link rel=\"apple-touch-icon\" sizes=\"152x152\" href=\"https://www.truedelta.com/apple-touch-icon-152x152.png\" />\n",
      "<!-- Google Analytics --> \n",
      "<script type=\"text/javascript\">\n",
      "\tvar _gaq = _gaq || [];\n",
      "  _gaq.push(['_setAccount', 'UA-6182091-1']);\n",
      "  _gaq.push(['_setAllowLinker', true]);\n",
      "  _gaq.push(['_setDomainName', '.truedelta.com']);\n",
      "  _gaq.push(['_trackPageview']);\n",
      "\n",
      "  (function () {\n",
      "            var ga = document.createElement('script'); ga.type = 'text/javascript'; ga.async = true;\n",
      "            ga.src = ('https:' == document.location.protocol ? 'https://ssl' : 'http://www') + '.google-analytics.com/ga.js';\n",
      "            var s = document.getElementsByTagName('script')[0]; s.parentNode.insertBefore(ga, s);\n",
      "        })();\n",
      "</script></head></html>\n"
     ]
    }
   ],
   "source": [
    "print(html)"
   ]
  },
  {
   "cell_type": "code",
   "execution_count": null,
   "metadata": {
    "collapsed": true
   },
   "outputs": [],
   "source": []
  }
 ],
 "metadata": {
  "kernelspec": {
   "display_name": "Python 3",
   "language": "python",
   "name": "python3"
  },
  "language_info": {
   "codemirror_mode": {
    "name": "ipython",
    "version": 3
   },
   "file_extension": ".py",
   "mimetype": "text/x-python",
   "name": "python",
   "nbconvert_exporter": "python",
   "pygments_lexer": "ipython3",
   "version": "3.7.4"
  }
 },
 "nbformat": 4,
 "nbformat_minor": 2
}
