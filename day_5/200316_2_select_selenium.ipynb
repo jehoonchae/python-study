{
 "cells": [
  {
   "cell_type": "code",
   "execution_count": 5,
   "metadata": {},
   "outputs": [],
   "source": [
    "from bs4 import BeautifulSoup\n",
    "from selenium import webdriver\n",
    "from selenium.webdriver.support.ui import Select"
   ]
  },
  {
   "cell_type": "code",
   "execution_count": 6,
   "metadata": {},
   "outputs": [],
   "source": [
    "url = 'http://www.truedelta.com/'"
   ]
  },
  {
   "cell_type": "code",
   "execution_count": 7,
   "metadata": {},
   "outputs": [],
   "source": [
    "driver = webdriver.Chrome('/Users/jehoonchae/Dropbox/Pycharm/chromedriver_mac64/chromedriver')\n",
    "driver.get(url)\n",
    "# driver.implicitly_wait(10)"
   ]
  },
  {
   "cell_type": "code",
   "execution_count": 9,
   "metadata": {},
   "outputs": [],
   "source": [
    "select1 = Select(driver.find_element_by_name('results_page'))  # xpath를 통해 찾을 수도 있고, name을 통해 찾을 수도 있다. \n",
    "select1.select_by_value('1') # select name 이라는 이름의tag 안 'results_page' 아래에 펼치기를 하면 value 라는 tag 안의 정보를 알 수 있다."
   ]
  },
  {
   "cell_type": "code",
   "execution_count": 10,
   "metadata": {},
   "outputs": [],
   "source": [
    "select2 = Select(driver.find_element_by_name('brand'))\n",
    "select2.select_by_value('Acura')"
   ]
  },
  {
   "cell_type": "code",
   "execution_count": 12,
   "metadata": {},
   "outputs": [],
   "source": [
    "select3 = Select(driver.find_element_by_name('model'))\n",
    "select3.select_by_value('646')"
   ]
  },
  {
   "cell_type": "code",
   "execution_count": 13,
   "metadata": {},
   "outputs": [],
   "source": [
    "submit_element = driver.find_element_by_xpath('//*[@id=\"show-search\"]/div[5]/input')\n",
    "submit_element.click()"
   ]
  },
  {
   "cell_type": "code",
   "execution_count": 14,
   "metadata": {},
   "outputs": [],
   "source": [
    "html = driver.page_source  # html이라는 변수 안에 최종적으로 내가 봤던 페이지의 소스\n"
   ]
  },
  {
   "cell_type": "code",
   "execution_count": 15,
   "metadata": {},
   "outputs": [],
   "source": [
    "driver.close()"
   ]
  },
  {
   "cell_type": "code",
   "execution_count": 5,
   "metadata": {
    "scrolled": true
   },
   "outputs": [
    {
     "name": "stdout",
     "output_type": "stream",
     "text": [
      "<!DOCTYPE html><!--[if lt IE 7 ]> <html lang=\"en\" class=\"no-js ie6\" xmlns:og=\"http://ogp.me/ns#\"\n",
      "      xmlns:fb=\"http://www.facebook.com/2008/fbml\"> <![endif]--><!--[if IE 7 ]>    <html lang=\"en\" class=\"no-js ie7\" xmlns:og=\"http://ogp.me/ns#\"\n",
      "      xmlns:fb=\"http://www.facebook.com/2008/fbml\"> <![endif]--><!--[if IE 8 ]>    <html lang=\"en\" class=\"no-js ie8\" xmlns:og=\"http://ogp.me/ns#\"\n",
      "      xmlns:fb=\"http://www.facebook.com/2008/fbml\"> <![endif]--><!--[if IE 9 ]>    \n",
      "\t<script src=\"http://html5shim.googlecode.com/svn/trunk/html5.js\"></script>\n",
      "\t<html lang=\"en\" class=\"no-js ie9\" xmlns:og=\"http://ogp.me/ns#\"\n",
      "      xmlns:fb=\"http://www.facebook.com/2008/fbml\"> <![endif]--><!--[if (gt IE 9)|!(IE)]>\n",
      "\t<html lang=\"en\" class=\"no-js\" xmlns:og=\"http://ogp.me/ns#\"\n",
      "      xmlns:fb=\"http://www.facebook.com/2008/fbml\"> <![endif]--><html xmlns=\"http://www.w3.org/1999/xhtml\"><head>\n",
      "  <meta charset=\"utf-8\" />\n",
      "  <meta http-equiv=\"content-type\" content=\"text/html; charset=UTF-8\" />\t\n",
      "  <meta http-equiv=\"content-language\" content=\"en\" />\n",
      "  <meta name=\"viewport\" content=\"width=device-width, initial-scale=1.0\" />\n",
      "<!--[if lt IE 8 ]> \n",
      "\t<meta http-equiv=\"X-UA-Compatible\" content=\"IE=edge\"> <![endif]-->\n",
      "<!--[if IE 8 ]>    \n",
      "      <meta http-equiv=\"X-UA-Compatible\" content=\"IE=IE8\"> <![endif]-->\n",
      "<!--[if IE 9 ]>    \n",
      "\t<meta http-equiv=\"X-UA-Compatible\" content=\"IE=IE9\" /> <![endif]-->\n",
      "<!--[if gt IE 9 ]>\n",
      "\t<meta http-equiv=\"X-UA-Compatible\" content=\"IE=edge\"> <![endif]-->\n",
      "<!--[if !IE ]>\n",
      "\t<meta http-equiv=\"X-UA-Compatible\" content=\"chrome=1\"> <![endif]-->\t  \n",
      "<meta name=\"google-site-verification\" content=\"rQf5hVBxvRiOKCGalq7rErZ4IMKwKZH9aqLRzPCAvUo\" />\n",
      "\t<link rel=\"alternate\" type=\"application/rss+xml\" href=\"https://www.truedelta.com/xml/review_rss.xml\" title=\"Michael Karesh's Car Reviews at TrueDelta\" />\n",
      "<meta property=\"og:type\" content=\"website\" />\n",
      "\n",
      "<meta property=\"og:site_name\" content=\"TrueDelta\" />\n",
      "<meta property=\"fb:admins\" content=\"1211824960,760498632\" />\n",
      "\t<link rel=\"author\" href=\"https://plus.google.com/100497186243012366013\" />\n",
      "\t<link rel=\"meta\" type=\"application/rdf+xml\" title=\"Dublin\" href=\"https://www.truedelta.com/dublin.rdf\" />\n",
      "\t<link rel=\"search\" type=\"application/opensearchdescription+xml\" title=\"Search TrueDelta\" href=\"https://www.truedelta.com/OpenSearch.xml\" />\n",
      "\t  <link type=\"text/css\" rel=\"stylesheet\" media=\"screen\" href=\"https://www.truedelta.com/css/reliability_model_gen.css?v=2\" />\n",
      "\t<link href=\"https://plus.google.com/117293642738369692713\" rel=\"publisher\" />\n",
      "<link rel=\"shortcut icon\" href=\"https://www.truedelta.com/favicon.ico\" type=\"image/x-icon\" />\n",
      "<link rel=\"apple-touch-icon\" href=\"https://www.truedelta.com/apple-touch-icon.png\" />\n",
      "<link rel=\"apple-touch-icon\" sizes=\"57x57\" href=\"https://www.truedelta.com/apple-touch-icon-57x57.png\" />\n",
      "<link rel=\"apple-touch-icon\" sizes=\"60x60\" href=\"https://www.truedelta.com/apple-touch-icon-57x57.png\" />\n",
      "<link rel=\"apple-touch-icon\" sizes=\"72x72\" href=\"https://www.truedelta.com/apple-touch-icon-72x72.png\" />\n",
      "<link rel=\"apple-touch-icon\" sizes=\"76x76\" href=\"https://www.truedelta.com/apple-touch-icon-76x76.png\" />\n",
      "<link rel=\"apple-touch-icon\" sizes=\"114x114\" href=\"https://www.truedelta.com/apple-touch-icon-114x114.png\" />\n",
      "<link rel=\"apple-touch-icon\" sizes=\"120x120\" href=\"https://www.truedelta.com/apple-touch-icon-120x120.png\" />\n",
      "<link rel=\"apple-touch-icon\" sizes=\"144x144\" href=\"https://www.truedelta.com/apple-touch-icon-144x144.png\" />\n",
      "<link rel=\"apple-touch-icon\" sizes=\"152x152\" href=\"https://www.truedelta.com/apple-touch-icon-152x152.png\" />\n",
      "<!-- Google Analytics --> \n",
      "<script type=\"text/javascript\">\n",
      "\tvar _gaq = _gaq || [];\n",
      "  _gaq.push(['_setAccount', 'UA-6182091-1']);\n",
      "  _gaq.push(['_setAllowLinker', true]);\n",
      "  _gaq.push(['_setDomainName', '.truedelta.com']);\n",
      "  _gaq.push(['_trackPageview']);\n",
      "\n",
      "  (function () {\n",
      "            var ga = document.createElement('script'); ga.type = 'text/javascript'; ga.async = true;\n",
      "            ga.src = ('https:' == document.location.protocol ? 'https://ssl' : 'http://www') + '.google-analytics.com/ga.js';\n",
      "            var s = document.getElementsByTagName('script')[0]; s.parentNode.insertBefore(ga, s);\n",
      "        })();\n",
      "</script></head></html>\n"
     ]
    }
   ],
   "source": [
    "print(html)"
   ]
  },
  {
   "cell_type": "code",
   "execution_count": 24,
   "metadata": {},
   "outputs": [],
   "source": [
    "driver = webdriver.Chrome('/Users/jehoonchae/Dropbox/Pycharm/chromedriver_mac64/chromedriver')"
   ]
  },
  {
   "cell_type": "code",
   "execution_count": 25,
   "metadata": {},
   "outputs": [],
   "source": [
    "url = 'https://www.naver.com/'\n",
    "driver.get(url)\n",
    "# driver.implicitly_wait(10)"
   ]
  },
  {
   "cell_type": "code",
   "execution_count": 26,
   "metadata": {},
   "outputs": [],
   "source": [
    "element = driver.find_element_by_xpath('//*[@id=\"account\"]/div/a/i')\n",
    "element.click()"
   ]
  },
  {
   "cell_type": "code",
   "execution_count": 27,
   "metadata": {},
   "outputs": [],
   "source": [
    "elem_login = driver.find_element_by_id(\"id\") "
   ]
  },
  {
   "cell_type": "code",
   "execution_count": 28,
   "metadata": {},
   "outputs": [],
   "source": [
    "elem_login.send_keys('hello')"
   ]
  },
  {
   "cell_type": "code",
   "execution_count": 30,
   "metadata": {},
   "outputs": [],
   "source": [
    "element = driver.find_element_by_id('pw')"
   ]
  },
  {
   "cell_type": "code",
   "execution_count": 31,
   "metadata": {},
   "outputs": [],
   "source": [
    "element.send_keys('1234')"
   ]
  },
  {
   "cell_type": "code",
   "execution_count": 32,
   "metadata": {},
   "outputs": [],
   "source": [
    "element = driver.find_element_by_xpath('//*[@id=\"log.login\"]')\n",
    "element.click()"
   ]
  },
  {
   "cell_type": "code",
   "execution_count": 1,
   "metadata": {},
   "outputs": [
    {
     "ename": "NameError",
     "evalue": "name 'soup' is not defined",
     "output_type": "error",
     "traceback": [
      "\u001b[0;31m---------------------------------------------------------------------------\u001b[0m",
      "\u001b[0;31mNameError\u001b[0m                                 Traceback (most recent call last)",
      "\u001b[0;32m<ipython-input-1-468935a8f34d>\u001b[0m in \u001b[0;36m<module>\u001b[0;34m\u001b[0m\n\u001b[0;32m----> 1\u001b[0;31m \u001b[0msoup\u001b[0m\u001b[0;34m\u001b[0m\u001b[0;34m\u001b[0m\u001b[0m\n\u001b[0m",
      "\u001b[0;31mNameError\u001b[0m: name 'soup' is not defined"
     ]
    }
   ],
   "source": [
    "soup"
   ]
  },
  {
   "cell_type": "code",
   "execution_count": null,
   "metadata": {},
   "outputs": [],
   "source": []
  }
 ],
 "metadata": {
  "kernelspec": {
   "display_name": "Python 3",
   "language": "python",
   "name": "python3"
  },
  "language_info": {
   "codemirror_mode": {
    "name": "ipython",
    "version": 3
   },
   "file_extension": ".py",
   "mimetype": "text/x-python",
   "name": "python",
   "nbconvert_exporter": "python",
   "pygments_lexer": "ipython3",
   "version": "3.7.4"
  }
 },
 "nbformat": 4,
 "nbformat_minor": 2
}
