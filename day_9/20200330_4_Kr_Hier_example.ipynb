{
 "cells": [
  {
   "cell_type": "code",
   "execution_count": 19,
   "metadata": {},
   "outputs": [],
   "source": [
    "from os import listdir\n",
    "from os.path import isfile, join\n",
    "\n",
    "mypath = './example_Kr_docs/'\n",
    "onlyfiles = [f for f in listdir(mypath) if isfile(join(mypath, f))]\n",
    "\n",
    "total_docs = []\n",
    "for file in onlyfiles:\n",
    "    file_path = mypath+file\n",
    "    with open(file_path, 'r', encoding='utf8') as f:\n",
    "        content = f.read()\n",
    "    total_docs.append(content)"
   ]
  },
  {
   "cell_type": "code",
   "execution_count": 20,
   "metadata": {},
   "outputs": [],
   "source": [
    "total_text =''\n",
    "for doc in total_docs:\n",
    "    total_text = total_text+' '+doc"
   ]
  },
  {
   "cell_type": "code",
   "execution_count": 21,
   "metadata": {},
   "outputs": [],
   "source": [
    "from kornounextractor.noun_extractor import extract\n",
    "with open('dic.txt', 'w', encoding='utf8') as f:\n",
    "    for word in sorted(extract(total_text, freq=1.0)):\n",
    "        f.write(word+'\\tNNG\\n')"
   ]
  },
  {
   "cell_type": "code",
   "execution_count": 22,
   "metadata": {},
   "outputs": [],
   "source": [
    "import konlpy.tag\n",
    "komoran = konlpy.tag.Komoran(userdic='dic.txt')"
   ]
  },
  {
   "cell_type": "code",
   "execution_count": 23,
   "metadata": {},
   "outputs": [],
   "source": [
    "stopwords = ['하며','동아일보','경향신문','조선일보','단독', '핫한', '한겨레', '재테크','재배포','동아닷컴','우리','사진','진행','.co','.kr','나가기','페이스북','.com','오전','18일', '19일', '이날','이번', '있다','홈페이지', '기자', '무단전재', '무단', '보기경향신문', '클릭', '하기', '금지', '기자', '뉴스', '기사', 'AP통신', 'Copyrights', 'SNS', 'chosuncom', 'dongacom', 'hyopdhanicokr', 'tbs', 'wwwkhancokr']"
   ]
  },
  {
   "cell_type": "code",
   "execution_count": 24,
   "metadata": {},
   "outputs": [],
   "source": [
    "def remove_words(words):\n",
    "    new_words=[word for word in words if len(word)>1 and word not in stopwords]\n",
    "    return new_words"
   ]
  },
  {
   "cell_type": "code",
   "execution_count": 25,
   "metadata": {},
   "outputs": [],
   "source": [
    "docs_nouns = [remove_words(komoran.nouns(doc.replace('\\n',' '))) for doc in total_docs]"
   ]
  },
  {
   "cell_type": "code",
   "execution_count": 26,
   "metadata": {},
   "outputs": [
    {
     "data": {
      "text/plain": [
       "13"
      ]
     },
     "execution_count": 26,
     "metadata": {},
     "output_type": "execute_result"
    }
   ],
   "source": [
    "len(docs_nouns)"
   ]
  },
  {
   "cell_type": "code",
   "execution_count": 27,
   "metadata": {},
   "outputs": [
    {
     "name": "stdout",
     "output_type": "stream",
     "text": [
      "['동행', '경제인', '저녁', '위원장', '내외', '나중', '합류', '해외', '방문', '식사', '외교', '식당', '현지', '호흡', '문재인', '대통령', '김정숙', '여사', '오후', '대동강', '수산물식당', '평양', '시민', '대화', '평양사진공동취재단', '서성', '문재인', '대통령', '평양', '방문', '이틀', '평양', '대동강', '수산물식당', '저녁식사', '평양', '시민', '이용', '일반', '식당', '현지', '정서', '대통령', '해외', '방문', '현지', '주민', '식당', '식사', '외교', '당초', '대통령', '실무진', '방북', '경제인', '식사', '초청', '계획', '예정', '김정은', '북한', '국무위원장', '내외', '합류', '자리', '성격', '정상', '친교', '자리', '대통령', '내외', '오후', '이재용', '삼성그룹', '부회장', '최태원', 'SK', '회장', '현정', '현대그룹', '회장', '능라', '경기장', '근처', '식당', '대통령', '대표', '요리', '재료', '철갑상어', '대통령', '자신', '식사', '초밥식사실', '식사', '북한', '일반', '주민', '테이블', '인사', '북한', '주민', '신기', '표정', '박수', '대통령', '악수', '대통령', '주민', '음식', '대통령', '때쯤', '김영철', '노동당', '부위원장', '대통령', '몇분', '아래층', '함성', '김정은', '위원장', '등장', '의미', '대통령', '위원장', '내외', '오늘', '시간', '환영만찬', '옥류관', '오찬', '방문', '기간', '정상', '세번', '식사', '대통령', '중국', '베트남', '해외', '순방', '현지', '주민', '식당', '현지', '호흡', '방북', '준비', '과정', '주민', '식당', '섭외', '요청', '대동강', '수산물식당', '고급', '어족', '실내', '낚시터', '위원장', '인민생활', '향상', '기치', '이름', '부지', '선정', '시찰', '인민봉사기지', '관심']\n"
     ]
    }
   ],
   "source": [
    "print(docs_nouns[0])"
   ]
  },
  {
   "cell_type": "code",
   "execution_count": 28,
   "metadata": {},
   "outputs": [],
   "source": [
    "from sklearn.feature_extraction.text import TfidfVectorizer # tf-idf based DTM\n",
    "def tfidf_extractor(corpus):\n",
    "    # returns a tf-idf based DTM\n",
    "    vectorizer = TfidfVectorizer(min_df=1, \n",
    "                                 norm='l2',\n",
    "                                 smooth_idf=True,\n",
    "                                 use_idf=True,\n",
    "                                 ngram_range=(1,1))\n",
    "    features = vectorizer.fit_transform(corpus)\n",
    "    return vectorizer, features"
   ]
  },
  {
   "cell_type": "code",
   "execution_count": 29,
   "metadata": {},
   "outputs": [],
   "source": [
    "documents_filtered = []\n",
    "for doc in docs_nouns:\n",
    "    document_filtered =''\n",
    "    for word in doc:\n",
    "        document_filtered = document_filtered+' '+word\n",
    "    documents_filtered.append(document_filtered)"
   ]
  },
  {
   "cell_type": "code",
   "execution_count": 30,
   "metadata": {},
   "outputs": [
    {
     "data": {
      "text/plain": [
       "' 동행 경제인 저녁 위원장 내외 나중 합류 해외 방문 식사 외교 식당 현지 호흡 문재인 대통령 김정숙 여사 오후 대동강 수산물식당 평양 시민 대화 평양사진공동취재단 서성 문재인 대통령 평양 방문 이틀 평양 대동강 수산물식당 저녁식사 평양 시민 이용 일반 식당 현지 정서 대통령 해외 방문 현지 주민 식당 식사 외교 당초 대통령 실무진 방북 경제인 식사 초청 계획 예정 김정은 북한 국무위원장 내외 합류 자리 성격 정상 친교 자리 대통령 내외 오후 이재용 삼성그룹 부회장 최태원 SK 회장 현정 현대그룹 회장 능라 경기장 근처 식당 대통령 대표 요리 재료 철갑상어 대통령 자신 식사 초밥식사실 식사 북한 일반 주민 테이블 인사 북한 주민 신기 표정 박수 대통령 악수 대통령 주민 음식 대통령 때쯤 김영철 노동당 부위원장 대통령 몇분 아래층 함성 김정은 위원장 등장 의미 대통령 위원장 내외 오늘 시간 환영만찬 옥류관 오찬 방문 기간 정상 세번 식사 대통령 중국 베트남 해외 순방 현지 주민 식당 현지 호흡 방북 준비 과정 주민 식당 섭외 요청 대동강 수산물식당 고급 어족 실내 낚시터 위원장 인민생활 향상 기치 이름 부지 선정 시찰 인민봉사기지 관심'"
      ]
     },
     "execution_count": 30,
     "metadata": {},
     "output_type": "execute_result"
    }
   ],
   "source": [
    "documents_filtered[0]"
   ]
  },
  {
   "cell_type": "code",
   "execution_count": 31,
   "metadata": {},
   "outputs": [],
   "source": [
    "vectorizer, DTM_tfidf = tfidf_extractor(documents_filtered)"
   ]
  },
  {
   "cell_type": "code",
   "execution_count": 32,
   "metadata": {},
   "outputs": [],
   "source": [
    "import numpy as np"
   ]
  },
  {
   "cell_type": "code",
   "execution_count": 33,
   "metadata": {},
   "outputs": [],
   "source": [
    "DTM_TFIDF = np.array(DTM_tfidf.todense())"
   ]
  },
  {
   "cell_type": "code",
   "execution_count": 34,
   "metadata": {},
   "outputs": [],
   "source": [
    "from sklearn.cluster import AgglomerativeClustering"
   ]
  },
  {
   "cell_type": "code",
   "execution_count": 35,
   "metadata": {},
   "outputs": [
    {
     "ename": "NameError",
     "evalue": "name 'DTM_np' is not defined",
     "output_type": "error",
     "traceback": [
      "\u001b[0;31m---------------------------------------------------------------------------\u001b[0m",
      "\u001b[0;31mNameError\u001b[0m                                 Traceback (most recent call last)",
      "\u001b[0;32m<ipython-input-35-c6c2efd75548>\u001b[0m in \u001b[0;36m<module>\u001b[0;34m()\u001b[0m\n\u001b[0;32m----> 1\u001b[0;31m \u001b[0mcluster_idf\u001b[0m \u001b[0;34m=\u001b[0m \u001b[0mAgglomerativeClustering\u001b[0m\u001b[0;34m(\u001b[0m\u001b[0mlinkage\u001b[0m\u001b[0;34m=\u001b[0m\u001b[0;34m'single'\u001b[0m\u001b[0;34m,\u001b[0m \u001b[0maffinity\u001b[0m\u001b[0;34m=\u001b[0m\u001b[0;34m'cosine'\u001b[0m\u001b[0;34m,\u001b[0m \u001b[0mn_clusters\u001b[0m\u001b[0;34m=\u001b[0m\u001b[0;36m4\u001b[0m\u001b[0;34m)\u001b[0m\u001b[0;34m.\u001b[0m\u001b[0mfit\u001b[0m\u001b[0;34m(\u001b[0m\u001b[0mDTM_np\u001b[0m\u001b[0;34m)\u001b[0m\u001b[0;34m\u001b[0m\u001b[0m\n\u001b[0m",
      "\u001b[0;31mNameError\u001b[0m: name 'DTM_np' is not defined"
     ]
    }
   ],
   "source": [
    "cluster_idf = AgglomerativeClustering(linkage='single', affinity='cosine', n_clusters=4).fit(DTM_np)"
   ]
  },
  {
   "cell_type": "code",
   "execution_count": 36,
   "metadata": {},
   "outputs": [
    {
     "ename": "NameError",
     "evalue": "name 'cluster_idf' is not defined",
     "output_type": "error",
     "traceback": [
      "\u001b[0;31m---------------------------------------------------------------------------\u001b[0m",
      "\u001b[0;31mNameError\u001b[0m                                 Traceback (most recent call last)",
      "\u001b[0;32m<ipython-input-36-d2ce0aa9093b>\u001b[0m in \u001b[0;36m<module>\u001b[0;34m()\u001b[0m\n\u001b[0;32m----> 1\u001b[0;31m \u001b[0mcluster_idf\u001b[0m\u001b[0;34m.\u001b[0m\u001b[0mlabels_\u001b[0m\u001b[0;34m\u001b[0m\u001b[0m\n\u001b[0m",
      "\u001b[0;31mNameError\u001b[0m: name 'cluster_idf' is not defined"
     ]
    }
   ],
   "source": [
    "cluster_idf.labels_"
   ]
  },
  {
   "cell_type": "code",
   "execution_count": 37,
   "metadata": {},
   "outputs": [],
   "source": [
    "import networkx as nx\n",
    "from sklearn.metrics.pairwise import cosine_similarity # cosine similarity 계산하기\n",
    "import itertools"
   ]
  },
  {
   "cell_type": "code",
   "execution_count": 38,
   "metadata": {},
   "outputs": [],
   "source": [
    "DOCS_NUM = len(docs_nouns)"
   ]
  },
  {
   "cell_type": "code",
   "execution_count": 39,
   "metadata": {},
   "outputs": [
    {
     "data": {
      "text/plain": [
       "13"
      ]
     },
     "execution_count": 39,
     "metadata": {},
     "output_type": "execute_result"
    }
   ],
   "source": [
    "DOCS_NUM "
   ]
  },
  {
   "cell_type": "code",
   "execution_count": 40,
   "metadata": {},
   "outputs": [],
   "source": [
    "clusters = []\n",
    "g = nx.Graph()\n",
    "g.add_nodes_from(list(range(DOCS_NUM)))\n",
    "for pair in list(itertools.combinations(range(DOCS_NUM), 2)):\n",
    "    similarity = cosine_similarity(DTM_TFIDF[pair[0]].reshape(1,-1), DTM_TFIDF[pair[1]].reshape(1,-1))[0][0]\n",
    "\n",
    "    if similarity>0.15: # 문서간의 유사도 기준을 0.35로 한 경우\n",
    "        g.add_edge(pair[0], pair[1], weight=similarity)"
   ]
  },
  {
   "cell_type": "code",
   "execution_count": 42,
   "metadata": {},
   "outputs": [
    {
     "data": {
      "image/png": "[encoded data removed]",
      "text/plain": [
       "<Figure size 432x288 with 1 Axes>"
      ]
     },
     "metadata": {},
     "output_type": "display_data"
    }
   ],
   "source": [
    "import matplotlib.pyplot as plt\n",
    "nx.draw_networkx(g)\n",
    "plt.show()"
   ]
  },
  {
   "cell_type": "code",
   "execution_count": null,
   "metadata": {
    "collapsed": true
   },
   "outputs": [],
   "source": []
  }
 ],
 "metadata": {
  "kernelspec": {
   "display_name": "Python 3",
   "language": "python",
   "name": "python3"
  },
  "language_info": {
   "codemirror_mode": {
    "name": "ipython",
    "version": 3
   },
   "file_extension": ".py",
   "mimetype": "text/x-python",
   "name": "python",
   "nbconvert_exporter": "python",
   "pygments_lexer": "ipython3",
   "version": "3.6.5"
  }
 },
 "nbformat": 4,
 "nbformat_minor": 2
}
