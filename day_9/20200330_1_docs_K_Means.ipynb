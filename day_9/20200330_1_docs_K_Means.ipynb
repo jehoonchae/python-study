{
 "cells": [
  {
   "cell_type": "markdown",
   "metadata": {},
   "source": [
    "아래와 같이 텍스트 파일을 읽어 옵니다. mypath라는 변수에 입력된 폴더의 파일들을 모두 가져오는 명령문이다. "
   ]
  },
  {
   "cell_type": "code",
   "execution_count": 2,
   "metadata": {},
   "outputs": [],
   "source": [
    "from os import listdir\n",
    "from os.path import isfile, join\n",
    "\n",
    "mypath = './example_En_docs/'"
   ]
  },
  {
   "cell_type": "code",
   "execution_count": 3,
   "metadata": {},
   "outputs": [
    {
     "data": {
      "text/plain": [
       "['doc3_1.txt',\n",
       " 'doc1_2.txt',\n",
       " 'doc3_2.txt',\n",
       " 'doc1_1.txt',\n",
       " 'doc3_3.txt',\n",
       " 'doc3_4.txt',\n",
       " 'doc2_2.txt',\n",
       " 'doc2_3.txt',\n",
       " 'doc0_1.txt',\n",
       " 'doc0_3.txt',\n",
       " 'doc2_1.txt',\n",
       " 'doc0_2.txt',\n",
       " 'doc4_2.txt',\n",
       " 'doc4_3.txt',\n",
       " 'doc4_1.txt']"
      ]
     },
     "execution_count": 3,
     "metadata": {},
     "output_type": "execute_result"
    }
   ],
   "source": [
    "listdir(mypath)"
   ]
  },
  {
   "cell_type": "code",
   "execution_count": 6,
   "metadata": {},
   "outputs": [],
   "source": [
    "onlyfiles = []\n",
    "for f in listdir(mypath):\n",
    "    if isfile(join(mypath, f)):\n",
    "        onlyfiles.append(f)\n",
    "        \n",
    "# 위 코드는 아래와 동일합니다.\n",
    "# onlyfiles = [f for f in listdir(mypath) if isfile(join(mypath, f))]"
   ]
  },
  {
   "cell_type": "code",
   "execution_count": 7,
   "metadata": {},
   "outputs": [],
   "source": [
    "total_docs = []\n",
    "for file in onlyfiles:\n",
    "    file_path = mypath+file\n",
    "    with open(file_path, 'r', encoding='utf8') as f:\n",
    "        content = f.read()\n",
    "    total_docs.append(content)"
   ]
  },
  {
   "cell_type": "code",
   "execution_count": 10,
   "metadata": {},
   "outputs": [],
   "source": [
    "import preprocessing # import a python file for English text preprocessing"
   ]
  },
  {
   "cell_type": "code",
   "execution_count": 11,
   "metadata": {},
   "outputs": [],
   "source": [
    "stopwords = ['be', 'today', 'yesterday', 'new', 'york', 'time'] # 불용어 사전 생성하기"
   ]
  },
  {
   "cell_type": "markdown",
   "metadata": {},
   "source": [
    "하나의 문서에 대해서 하나의 벡터를 형성시킨다. 이를 각 문서마다 적용시키면 최종적으로 하나의 matirx를 얻을 수 있다."
   ]
  },
  {
   "cell_type": "code",
   "execution_count": 13,
   "metadata": {},
   "outputs": [],
   "source": [
    "docs = [preprocessing.En_processing(doc, stopwords) for doc in total_docs]\n",
    "# docs의 각 원소는 문서 하나에 대해서 (문서 내용, [명사단어])로 구성\n",
    "# 문서 내용은 문장들로 구성"
   ]
  },
  {
   "cell_type": "code",
   "execution_count": 17,
   "metadata": {},
   "outputs": [
    {
     "data": {
      "text/plain": [
       "('Growth in Chinas manufacturing sector sputtered in September as both external and domestic demand weakened two surveys showed on Sunday raising the pressure on policymakers as U.S. tariffs appear to be inflicting a heavier toll on the Chinese economy.\\n\\nA private survey showed growth in the factory sector stalled after 15 months of expansion with export orders falling the fastest in over two years while an official survey confirmed a further manufacturing weakening.\\nTaken together the business activity gauges  the first major readings on Chinas economy for September  confirm consensus views that the worlds secondlargest economy is continuing to cool which is likely to prompt Chinese policymakers to roll out more growthsupport measures in coming months.\\n\\nWe should make policy preparations as the external pressure on the economy is rising and it will increase further next year said Tang Jianwei senior economist at Bank of Communications in Shanghai.\\n\\nSome cushion for the slowing economy might come from services which account for more than half of Chinas economy. The official nonmanufacturing Purchasing Managers Index PMI released by the National Bureau of Statistics on Sunday showed services expanded at a faster rate in September.\\n\\nFor manufacturing the official index fell to a sevenmonth low of 50.8 in September from 51.3 in August and below a Reuters poll forecast of 51.2. That index has stayed above the 50point mark which divides expansion from contraction 26 straight months.\\n\\nBut the CaixinMarkit Manufacturing Purchasing Managers Index PMI fell more than expected to 50.0 from 50.6 in August. Economists polled by Reuters had forecast 50.5 on average.\\n\\nFor the private survey September was the first time Chinas factories had not seen business improve since May 2017 when activity contracted.\\n\\nShrinking new export orders\\nThe official data covers a much larger number of companies while the private poll focuses more on small and mediumsized firms which are vital to Chinas job creation. Chinese officials have pledged to prevent extensive jo losses as trade risks mount.\\n\\nIn the Caixin survey new export orders  an indicator of future activity contracted at the fastest pace since February 2016 with companies attributing the shrinking orders to trade frictions and subsequent tariffs.\\n\\nIn the official survey the new export orders subindex fell to 48.0 from 49.4 in August contracting for a fourth straight month.\\n\\nExpansion across the manufacturing sector weakened in September as exports increasingly dragged down performance and continued softening demand began to have an impact on companies production said Zhengsheng Zhong director of macroeconomic analysis at CEBM Group.\\n\\nDownward pressure on Chinas economy was significant said Zhong.\\n\\nTang of Bank of Communications said he expects Chinas economic growth to slow to 6.6 percent in the third quarter from 6.7 percent in AprilJune.\\n\\nLong fight ahead?\\nThe Trump administration has pointed to growing signs of economic weakness in China and its slumping stock markets as proof that the United States is winning the trade war but Beijing has remained defiant vowing to stimulate domestic demand to cushion the blow from any trade shocks. Washington slapped tariffs on 200 billion worth of Chinese goods on Sept. 24 and is threatening to impose duties on virtually all of the goods China exports to the United States.\\n\\nPlans for fresh trade talks collapsed in recent weeks and both sides appear to be digging in for a long fight casting a pall over the outlook for global economic growth.\\n\\nLong Guoqiang deputy head of the Chinese Cabinets think tank the Development Research Centre told reporters on Sunday the impact of the tariffs on some exporters would be harsh.\\n\\nSome will cut production some will cut workers and some may even shut down Long said.\\n\\nWhile Chinas official export data has proved surprisingly resilient so far many analysts believe companies have been rushing out shipments to the United States to beat successive rounds of tariffs raising the risk of a sharp drop off once duties are actually imposed. The deepening slump in export orders may be bearing that theory out.\\n\\nExportreliant Chinese cities and provinces are already showing the strain.\\n\\nGuangdong Chinas biggest province by gross domestic product reported a drop in exports in the first eight months from a year earlier.\\n\\nDemand in China had already been slowing before the U.S. trade row flared a multiyear crackdown on riskier lending and debt started to push up companies borrowing costs. Fixedasset investment growth has sunk to a record low.\\n\\nPolicymakers have shifted focus in recent months to growth boosting measures to cushion the economy and weather the trade storm. They have sought to bring financing costs down boost lending to smaller businesses cut taxes and fasttrack more infrastructure projects.\\n\\nBut analysts note it will take some time for such measures to put a floor under the slowing economy with some predicting things will get worse before they get better.\\n\\nChina is likely to place increased hopes on its services sector with rising wages for people in it giving consumers more spending power. The official PMI index for September put services at 54.9 the highest level since June from 54.2 in August.\\n\\nThe central bank has cut banks reserve requirement ratios three times this year to pump out more liquidity with more reductions widely expected.',\n",
       " ['growth',\n",
       "  'manufacturing',\n",
       "  'sector',\n",
       "  'september',\n",
       "  'demand',\n",
       "  'survey',\n",
       "  'sunday',\n",
       "  'pressure',\n",
       "  'policymakers',\n",
       "  'toll',\n",
       "  'economy',\n",
       "  'survey',\n",
       "  'growth',\n",
       "  'factory',\n",
       "  'sector',\n",
       "  'month',\n",
       "  'expansion',\n",
       "  'export',\n",
       "  'order',\n",
       "  'year',\n",
       "  'survey',\n",
       "  'manufacturing',\n",
       "  'business',\n",
       "  'activity',\n",
       "  'reading',\n",
       "  'china',\n",
       "  'economy',\n",
       "  'consensus',\n",
       "  'view',\n",
       "  'world',\n",
       "  'economy',\n",
       "  'policymakers',\n",
       "  'measure',\n",
       "  'month',\n",
       "  'policy',\n",
       "  'preparation',\n",
       "  'pressure',\n",
       "  'economy',\n",
       "  'year',\n",
       "  'tang',\n",
       "  'jianwei',\n",
       "  'economist',\n",
       "  'bank',\n",
       "  'communication',\n",
       "  'cushion',\n",
       "  'economy',\n",
       "  'service',\n",
       "  'half',\n",
       "  'economy',\n",
       "  'purchasing',\n",
       "  'manager',\n",
       "  'index',\n",
       "  'pmi',\n",
       "  'bureau',\n",
       "  'statistic',\n",
       "  'sunday',\n",
       "  'service',\n",
       "  'faster',\n",
       "  'rate',\n",
       "  'september',\n",
       "  'index',\n",
       "  'low',\n",
       "  'september',\n",
       "  'august',\n",
       "  'reuters',\n",
       "  'forecast',\n",
       "  'index',\n",
       "  'mark',\n",
       "  'expansion',\n",
       "  'contraction',\n",
       "  'month',\n",
       "  'caixinmarkit',\n",
       "  'purchasing',\n",
       "  'manager',\n",
       "  'index',\n",
       "  'pmi',\n",
       "  'economist',\n",
       "  'reuters',\n",
       "  'average',\n",
       "  'survey',\n",
       "  'september',\n",
       "  'china',\n",
       "  'factory',\n",
       "  'business',\n",
       "  'activity',\n",
       "  'export',\n",
       "  'order',\n",
       "  'official',\n",
       "  'data',\n",
       "  'number',\n",
       "  'company',\n",
       "  'poll',\n",
       "  'firm',\n",
       "  'job',\n",
       "  'creation',\n",
       "  'official',\n",
       "  'jo',\n",
       "  'loss',\n",
       "  'trade',\n",
       "  'risk',\n",
       "  'caixin',\n",
       "  'survey',\n",
       "  'export',\n",
       "  'order',\n",
       "  'indicator',\n",
       "  'activity',\n",
       "  'pace',\n",
       "  'company',\n",
       "  'order',\n",
       "  'friction',\n",
       "  'tariff',\n",
       "  'survey',\n",
       "  'export',\n",
       "  'order',\n",
       "  'contracting',\n",
       "  'month',\n",
       "  'expansion',\n",
       "  'manufacturing',\n",
       "  'sector',\n",
       "  'september',\n",
       "  'export',\n",
       "  'performance',\n",
       "  'demand',\n",
       "  'impact',\n",
       "  'company',\n",
       "  'production',\n",
       "  'zhengsheng',\n",
       "  'zhong',\n",
       "  'director',\n",
       "  'analysis',\n",
       "  'cebm',\n",
       "  'group',\n",
       "  'pressure',\n",
       "  'china',\n",
       "  'economy',\n",
       "  'tang',\n",
       "  'bank',\n",
       "  'communication',\n",
       "  'growth',\n",
       "  'percent',\n",
       "  'quarter',\n",
       "  'percent',\n",
       "  'apriljune',\n",
       "  'trump',\n",
       "  'administration',\n",
       "  'sign',\n",
       "  'weakness',\n",
       "  'china',\n",
       "  'stock',\n",
       "  'market',\n",
       "  'proof',\n",
       "  'state',\n",
       "  'trade',\n",
       "  'war',\n",
       "  'beijing',\n",
       "  'demand',\n",
       "  'blow',\n",
       "  'trade',\n",
       "  'shock',\n",
       "  'tariff',\n",
       "  'worth',\n",
       "  'good',\n",
       "  'sept',\n",
       "  'duty',\n",
       "  'good',\n",
       "  'export',\n",
       "  'state',\n",
       "  'plan',\n",
       "  'trade',\n",
       "  'talk',\n",
       "  'week',\n",
       "  'side',\n",
       "  'fight',\n",
       "  'pall',\n",
       "  'outlook',\n",
       "  'growth',\n",
       "  'head',\n",
       "  'cabinet',\n",
       "  'development',\n",
       "  'research',\n",
       "  'centre',\n",
       "  'reporter',\n",
       "  'impact',\n",
       "  'tariff',\n",
       "  'exporter',\n",
       "  'production',\n",
       "  'worker',\n",
       "  'china',\n",
       "  'export',\n",
       "  'data',\n",
       "  'analyst',\n",
       "  'company',\n",
       "  'shipment',\n",
       "  'state',\n",
       "  'round',\n",
       "  'tariff',\n",
       "  'risk',\n",
       "  'drop',\n",
       "  'duty',\n",
       "  'slump',\n",
       "  'export',\n",
       "  'order',\n",
       "  'theory',\n",
       "  'city',\n",
       "  'province',\n",
       "  'strain',\n",
       "  'china',\n",
       "  'province',\n",
       "  'product',\n",
       "  'drop',\n",
       "  'export',\n",
       "  'month',\n",
       "  'year',\n",
       "  'demand',\n",
       "  'china',\n",
       "  'trade',\n",
       "  'row',\n",
       "  'crackdown',\n",
       "  'lending',\n",
       "  'debt',\n",
       "  'company',\n",
       "  'cost',\n",
       "  'investment',\n",
       "  'growth',\n",
       "  'record',\n",
       "  'low',\n",
       "  'policymakers',\n",
       "  'focus',\n",
       "  'month',\n",
       "  'growth',\n",
       "  'measure',\n",
       "  'economy',\n",
       "  'trade',\n",
       "  'storm',\n",
       "  'financing',\n",
       "  'cost',\n",
       "  'lending',\n",
       "  'business',\n",
       "  'tax',\n",
       "  'infrastructure',\n",
       "  'project',\n",
       "  'analyst',\n",
       "  'measure',\n",
       "  'floor',\n",
       "  'economy',\n",
       "  'thing',\n",
       "  'china',\n",
       "  'hope',\n",
       "  'service',\n",
       "  'sector',\n",
       "  'wage',\n",
       "  'people',\n",
       "  'consumer',\n",
       "  'spending',\n",
       "  'power',\n",
       "  'pmi',\n",
       "  'index',\n",
       "  'september',\n",
       "  'service',\n",
       "  'level',\n",
       "  'june',\n",
       "  'august',\n",
       "  'bank',\n",
       "  'bank',\n",
       "  'ratio',\n",
       "  'year',\n",
       "  'liquidity',\n",
       "  'reduction'])"
      ]
     },
     "execution_count": 17,
     "metadata": {},
     "output_type": "execute_result"
    }
   ],
   "source": [
    "docs[0]"
   ]
  },
  {
   "cell_type": "code",
   "execution_count": 18,
   "metadata": {},
   "outputs": [],
   "source": [
    "DOCS_NUM = len(docs) "
   ]
  },
  {
   "cell_type": "code",
   "execution_count": 19,
   "metadata": {},
   "outputs": [
    {
     "data": {
      "text/plain": [
       "15"
      ]
     },
     "execution_count": 19,
     "metadata": {},
     "output_type": "execute_result"
    }
   ],
   "source": [
    "DOCS_NUM"
   ]
  },
  {
   "cell_type": "markdown",
   "metadata": {},
   "source": [
    "모든 문서에서 사용된 모든 명사를 저장한 것이, total_docs_nouns이고, 각 문서 안에서 명사를 모두 저장한 것이 docs_nouns이다."
   ]
  },
  {
   "cell_type": "code",
   "execution_count": 20,
   "metadata": {},
   "outputs": [],
   "source": [
    "total_docs_nouns = [] # corpus에 사용된 모든 단어 저장\n",
    "docs_nouns = [] # 각 문서를 단어로 표현한 것들의 리스트\n",
    "for doc, words in docs:\n",
    "    total_docs_nouns.extend(words)\n",
    "    docs_nouns.append(words)"
   ]
  },
  {
   "cell_type": "code",
   "execution_count": 23,
   "metadata": {},
   "outputs": [
    {
     "data": {
      "text/plain": [
       "15"
      ]
     },
     "execution_count": 23,
     "metadata": {},
     "output_type": "execute_result"
    }
   ],
   "source": [
    "len(docs_nouns)"
   ]
  },
  {
   "cell_type": "code",
   "execution_count": 24,
   "metadata": {},
   "outputs": [
    {
     "data": {
      "text/plain": [
       "3203"
      ]
     },
     "execution_count": 24,
     "metadata": {},
     "output_type": "execute_result"
    }
   ],
   "source": [
    "len(total_docs_nouns)"
   ]
  },
  {
   "cell_type": "code",
   "execution_count": 25,
   "metadata": {},
   "outputs": [
    {
     "data": {
      "text/plain": [
       "1168"
      ]
     },
     "execution_count": 25,
     "metadata": {},
     "output_type": "execute_result"
    }
   ],
   "source": [
    "len(set(total_docs_nouns))"
   ]
  },
  {
   "cell_type": "code",
   "execution_count": 26,
   "metadata": {},
   "outputs": [],
   "source": [
    "from sklearn.feature_extraction.text import CountVectorizer # frequency based DTM\n",
    "from sklearn.feature_extraction.text import TfidfVectorizer # tf-idf based DTM"
   ]
  },
  {
   "cell_type": "code",
   "execution_count": 27,
   "metadata": {},
   "outputs": [],
   "source": [
    "def tf_extractor(corpus): \n",
    "    # returns a frequency-based DTM\n",
    "    vectorizer = CountVectorizer(min_df=1, ngram_range=(1,1))\n",
    "    # min_df: minimum document frequency threshold\n",
    "         # if min_df = 1 -> 최소 적어도 하나의 문서에서 사용된 단어들은 모두 포함\n",
    "    # ngram_range=(1,1) -> unigram 만 포함\n",
    "    # ngram_range=(1,3) -> unigram, bi-gram, tri-gram 까지 고려\n",
    "    features = vectorizer.fit_transform(corpus) # transform texts to a frequency matrix\n",
    "    return vectorizer, features  "
   ]
  },
  {
   "cell_type": "code",
   "execution_count": 28,
   "metadata": {},
   "outputs": [],
   "source": [
    "def tfidf_extractor(corpus):\n",
    "    # returns a tf-idf based DTM\n",
    "    vectorizer = TfidfVectorizer(min_df=1, \n",
    "                                 norm='l2',\n",
    "                                 smooth_idf=True,\n",
    "                                 use_idf=True,\n",
    "                                 ngram_range=(1,1))\n",
    "    features = vectorizer.fit_transform(corpus)\n",
    "    return vectorizer, features"
   ]
  },
  {
   "cell_type": "code",
   "execution_count": 71,
   "metadata": {
    "scrolled": true
   },
   "outputs": [
    {
     "name": "stdout",
     "output_type": "stream",
     "text": [
      "['growth', 'manufacturing', 'sector', 'september', 'demand', 'survey', 'sunday', 'pressure', 'policymakers', 'toll', 'economy', 'survey', 'growth', 'factory', 'sector', 'month', 'expansion', 'export', 'order', 'year', 'survey', 'manufacturing', 'business', 'activity', 'reading', 'china', 'economy', 'consensus', 'view', 'world', 'economy', 'policymakers', 'measure', 'month', 'policy', 'preparation', 'pressure', 'economy', 'year', 'tang', 'jianwei', 'economist', 'bank', 'communication', 'cushion', 'economy', 'service', 'half', 'economy', 'purchasing', 'manager', 'index', 'pmi', 'bureau', 'statistic', 'sunday', 'service', 'faster', 'rate', 'september', 'index', 'low', 'september', 'august', 'reuters', 'forecast', 'index', 'mark', 'expansion', 'contraction', 'month', 'caixinmarkit', 'purchasing', 'manager', 'index', 'pmi', 'economist', 'reuters', 'average', 'survey', 'september', 'china', 'factory', 'business', 'activity', 'export', 'order', 'official', 'data', 'number', 'company', 'poll', 'firm', 'job', 'creation', 'official', 'jo', 'loss', 'trade', 'risk', 'caixin', 'survey', 'export', 'order', 'indicator', 'activity', 'pace', 'company', 'order', 'friction', 'tariff', 'survey', 'export', 'order', 'contracting', 'month', 'expansion', 'manufacturing', 'sector', 'september', 'export', 'performance', 'demand', 'impact', 'company', 'production', 'zhengsheng', 'zhong', 'director', 'analysis', 'cebm', 'group', 'pressure', 'china', 'economy', 'tang', 'bank', 'communication', 'growth', 'percent', 'quarter', 'percent', 'apriljune', 'trump', 'administration', 'sign', 'weakness', 'china', 'stock', 'market', 'proof', 'state', 'trade', 'war', 'beijing', 'demand', 'blow', 'trade', 'shock', 'tariff', 'worth', 'good', 'sept', 'duty', 'good', 'export', 'state', 'plan', 'trade', 'talk', 'week', 'side', 'fight', 'pall', 'outlook', 'growth', 'head', 'cabinet', 'development', 'research', 'centre', 'reporter', 'impact', 'tariff', 'exporter', 'production', 'worker', 'china', 'export', 'data', 'analyst', 'company', 'shipment', 'state', 'round', 'tariff', 'risk', 'drop', 'duty', 'slump', 'export', 'order', 'theory', 'city', 'province', 'strain', 'china', 'province', 'product', 'drop', 'export', 'month', 'year', 'demand', 'china', 'trade', 'row', 'crackdown', 'lending', 'debt', 'company', 'cost', 'investment', 'growth', 'record', 'low', 'policymakers', 'focus', 'month', 'growth', 'measure', 'economy', 'trade', 'storm', 'financing', 'cost', 'lending', 'business', 'tax', 'infrastructure', 'project', 'analyst', 'measure', 'floor', 'economy', 'thing', 'china', 'hope', 'service', 'sector', 'wage', 'people', 'consumer', 'spending', 'power', 'pmi', 'index', 'september', 'service', 'level', 'june', 'august', 'bank', 'bank', 'ratio', 'year', 'liquidity', 'reduction']\n"
     ]
    }
   ],
   "source": [
    "print(docs_nouns[0])"
   ]
  },
  {
   "cell_type": "markdown",
   "metadata": {},
   "source": [
    "아래의 과정을 거치게 되면, 최종적으로 15개의 원소가 생긴다."
   ]
  },
  {
   "cell_type": "code",
   "execution_count": 29,
   "metadata": {},
   "outputs": [],
   "source": [
    "documents_filtered = []\n",
    "for doc in docs_nouns:\n",
    "    document_filtered =''\n",
    "    for word in doc:\n",
    "        document_filtered = document_filtered+' '+word\n",
    "    documents_filtered.append(document_filtered) # list of docs, doc 은 단어들로 구성이 된 string data\n",
    "# 불필요한 단어들을 제거하고 난후 DTM로 변환하기 위해 다시 list of strings의 형태로 변환"
   ]
  },
  {
   "cell_type": "code",
   "execution_count": 31,
   "metadata": {},
   "outputs": [
    {
     "data": {
      "text/plain": [
       "[' growth manufacturing sector september demand survey sunday pressure policymakers toll economy survey growth factory sector month expansion export order year survey manufacturing business activity reading china economy consensus view world economy policymakers measure month policy preparation pressure economy year tang jianwei economist bank communication cushion economy service half economy purchasing manager index pmi bureau statistic sunday service faster rate september index low september august reuters forecast index mark expansion contraction month caixinmarkit purchasing manager index pmi economist reuters average survey september china factory business activity export order official data number company poll firm job creation official jo loss trade risk caixin survey export order indicator activity pace company order friction tariff survey export order contracting month expansion manufacturing sector september export performance demand impact company production zhengsheng zhong director analysis cebm group pressure china economy tang bank communication growth percent quarter percent apriljune trump administration sign weakness china stock market proof state trade war beijing demand blow trade shock tariff worth good sept duty good export state plan trade talk week side fight pall outlook growth head cabinet development research centre reporter impact tariff exporter production worker china export data analyst company shipment state round tariff risk drop duty slump export order theory city province strain china province product drop export month year demand china trade row crackdown lending debt company cost investment growth record low policymakers focus month growth measure economy trade storm financing cost lending business tax infrastructure project analyst measure floor economy thing china hope service sector wage people consumer spending power pmi index september service level june august bank bank ratio year liquidity reduction',\n",
       " ' john mccain president donald trump day senator lyinginstate capitol rotunda pomp service washington leader hero washington death fact soughtafter eulogizer rite president statement house tribute mccain lauding courage honor decency character readiness mistake trump debate personality plea president lawyer michael cohen conviction campaign chairman paul manafort week storm house leader trump context ceremony mccains lament giant debate morality comportment principle figure age trump influence campaign office sendoff assessment men president cnn mccain obama george men house president plan mccain message president style outlook value role antipathy senator president death saturday brain cancer circumstance president statement passing figure trump tweet member family mccains character contribution washington post sunday trump statement mccains career service prisoner war paper press secretary sarah sander house chief staff john arizona senator hero deepest sympathy family senator john heart prayer twitter mccains service cathedral meeting establishment elite trump presidency president absence failure nation fracture ruling class focus campaign motif presidency mark salter mccains speechwriter confidant savannah guthrie monday senator week president donald trump week john honor decorum year service country salter occasion man trump theatrics presidency upside base voter mccain relic president attack senator debate trump gathering establishment clan epitaph mccain brand conservatism warrior disciple president ronald assertiveness george year contrast kgb man russia influence president institution nato union war east conflict trading system state week election race remembrance mccain kind value policy icon establishment contemporary president idea issue trade use power grass root politics case congregation cathedral politician luxury opinion sentiment voter tribute state figure bar president leader character courage willingness ground aisle desire cause theme day mccains observance way john kind courage statement minute mccains courage john president george bush man conviction patriot order servant tradition country leader nation mccain sight decade travel commitment alliance support right commitment value mccain soldier atlanticist europe north america courage character supporter alliance secretary jens tweet partner john joe biden clinton affection man biography touch hero tribute face value deeper climate year trump presidency root feud senator president comparison president mccain trump supporter medium critic mccains death attack commanderinchief tribute establishment politician commentary importance character life mission role criticism conduct attitude man office trump critic character president pace week woe presidency criticism trump motif saw mccain ego search recognition europe concern trump commitment value nato tribute people stoltenberg context way antagonism trump mccain microcosm change businessman gop candidate trump war hero observer house hope sacrifice man hanoi hilton prison war fact trump wake furor sign dynamic party anyone stage takeover bid mccain end life trump anomaly diversion leadership core value fact conviction evidence fake mccain book restless wave swipe trump polarization washington goodbye week argument america condition',\n",
       " ' beijingan trade brawl toll economy demand consumption cause manufacturer production slowdown report prospect china leader stimulus measure growth data maker car machinery product september export order year output manufacturer data gauge performance quarter trade fight bite growth world economy softening growth debtcontrol campaign investment consumption company individual july government trade threat tariff hundred billion dollar country product',\n",
       " ' house flag staff monday day death sen john mccain president donald trump mccain war hero candidate afternoon saturday home state arizona battle brain cancer flag washington capitol washington monument halfstaff mccains house flag trump administration email president proclamation mccain trump relationship mccain point campaign senator pow vietnam war war hero people president vote bill president condolence mccains family evening tweet mention mccains legacy service leadership senate statement contrast tribute corner world front page newspaper country stock exchange moment silence monday honor mccain house weekend president morning proclamation halfstaff mccains proclamation death flag date interment mccains saturday trump proclamation others day lady barbara bush april day sen john glenn tenure president barack house death court justice antonin scalia flag day opponent campaign trail president george bush barack obama eulogy service cathedral washington saturday mccains family trump house director marc appearance cnn monday trump thing wake mccains death president flowery statement john mccains life medium thing past story president thing president family life',\n",
       " ' gauge activity china manufacturing sector september nation slowdown fallout trade war manufacturing purchasing manager index september versus august estimate survey economist caixin manufacturing pmi sentiment firm reading line expansion contraction nonmanufacturing pmi demand service construction headwind economy president donald administration tariff total good china china levy worth good gauge export order manufacturing report month contraction reading slowdown view government range stimulus measure middle year infrastructure investment government support policy impact quarter damage trade war yuwei researcher bank institute finance effort infrastructure investment construction activity service industry quarter bloomberg economics indicator china economy pullback sentiment september report picture whats china indicator business condition market sentiment bloombergs indicator series economy slowdown profit growth company enterprise discrepancy data suggest picture manufacturer growth rate official stimulus form tax cut infrastructure spending economy effect trade dispute analyst bank liquidity system growth index telecommunication industry report activity transportation realestate service reading contraction bureau statistic construction activity trade war impact reliance trade influence wen tao analyst logistics information center statement website',\n",
       " ' growth manufacturing sector september month expansion export order year survey sunday tariff toll economy caixinmarkit purchasing manager index pmi september economist reuters reading average divide expansion contraction basis china factory business activity production september sale business confidence manufacturer year survey reading order export order data factory demand customer home cooling economy export order indicator activity shrank pace company decline friction tariff state tariff worth good sept escalation trade war world economy attempt negotiation side fight subindex order june expansion manufacturing sector september export performance demand impact company production zhengsheng zhong director analysis cebm group pressure china economy deterioration business condition manufacturer workforce number rate month survey caixin survey company job creation official job loss trade risk cost demand firm company funding condition beijing crackdown debt borrowing practice policymakers fund firm tax fee bank credit line firm trade dispute survey price pressure manufacturer concern profitability turn outlook investment input price september cost material protection policy',\n",
       " ' state mexico agreement trade issue source negotiation president donald trump development negotiation state mexico block auto official law part car america region automaker import tax agreement requirement agreement country negotiation nafta party state mexico canada canada optimism partner spokesperson minister affair chrystia progress mexico state requirement agreement negotiation threecountry agreement year trade agreement party tariff import trump agreement deal tariff year state tariff steel aluminum world mexico response mexico tariff good steel pork apple potato type cheese canada tariff good steel toffee maple coffee bean strawberry jam',\n",
       " ' state mexico agreement portion trade agreement deal monday step trade pact brink collapse year negotiation agreement portion president trump trade pact history mr trump win trade war country globe union china agreement state mexico agreement canada party talk washington week agreement mexico center rule automobile industry source friction leaf issue country nafta approval effect vote lawmaker president plan deal monday morning mr trump deal mexico tweet president weekend talk relationship mexico hour people government trade agreement mexico j trump realdonaldtrump nafta canada talk canada party discussion potential twocountry deal opposition lawmaker industry supply country official progress canada negotiation trade relation canada month mr trump country trade practice leader deal favor',\n",
       " ' aleman world video game front gunshot restroom cover mass shooting florida tournament player football video game madden jacksonville winner level tournament vega october cash prize participant jacksonville marketplace store bar restaurant st john river david gamer baltimore maryland jacksonville tournament game bar back pizza restaurant sunday gun venue fire people gun mike williams police motive katz handgun sheriff people wound people area williams victim condition hospital sheriff horror stream event game shot people person f whatd call williams officer scene minute bathroom minute ran scene im member jacksonville fire station rock training parking garage street landing dozen people president jacksonville association fire fighter person shirt chest wyse person wound firefighter aid others landing wyse officer victim body katzs body hour authority agent bureau alcohol tobacco firearm explosive fbi police family home baltimore katz gaming bread tournament multiple gamers cnn buffalo bill picture bill congrats bill thanks bill tweet read interview win buffalo bill player tasker katz prowess player florida mass shooting year gunman people douglas school parkland year people fort lauderdale airport year pulse nightclub orlando gov rick scott reporter night weve something men life value somebody life congresswoman gabrielle giffords mass shooting nation attention nation grief heart giffords gun violence prevention organization statement massacre jacksonville reminder threat violence matter day giffords indictment country inability kid nation grief heart massacre jacksonville indictment country inability kid httpstconnw88rvwr2 gabrielle giffords gabbygiffords ea sport video game developer publisher shooting senseless act violence complexity founder ceo jason cnn shooting esports industry security event company drini thumb lake someone walk event sportsmanship teamwork vibe something heartbreaking esports industry whole look security',\n",
       " ' screen control console tony montagnino defense passing strategy gunfire sunday nfl tournament jacksonville florida pain back leg year john madden football montagnino monday news morning america video moment gamer david baltimore fire participant southeast contest montagnino reaction shot firecracker gma didnt flash gun point mode silhouette shooter game bar share space chicago pizza restaurant jacksonville mall hair face montagnino father gun flash kind face rip flash floor wherever sharon game color commentary online broadcast bullet interview gma monday sharon announcer shield gunman foot aim gamers voice emotion sharon grieving one family member didnt family brotherhood morning clayton principal chaminade college preparatory school west hill clayton year football team school elijah teacher counselor school administrator sweet man respect peer faculty principal brother tom fahy statement student classroom teammate football family scout team role performance team fahy elijah mother erin advocate elijah heart impact loss fahy people pm rampage others official death toll firefighter training session jacksonville fire chief jeremy cooke morning firefighter direction gunfire gear bleeding airway anything cooke thing firefighter taylor poindexter williams hour day sunday tournament video football game oakland raider coach tv analyst john madden men eternity life gunfire bar order pizza minute bar pop balloon williams news shooting second balloon restaurant pop anything gunshot door williams people space chicago pizza tournament video area back restaurant poindexter williams competition shooter fire shot shot area people eternity span minute people yard front dont name second poindexter dozen gamers exit ankle rush sunday floor stuff people poindexter way im jacksonville police gunman participant tournament motive shooting katz tournament chip shoulder think seed pregame interview ranking tournament player police katz life gunfire police others poindexter patient condition name family samotowka trauma director hospital name george amadeo chris patient operation operation tomorrow condition health jacksonville patient condition condition hospital statement shawn richardson restaurant gunshot people rush child entrance landing backpack back mail',\n",
       " ' trade deal monday way agreement nation president donald trump deal statesmexico trade agreement rid name trump deal mexico farmer manufacturer official washington issue trump administration push agreement mexico canada hope nafta government turnover im agreement carla representative negotiator cnbcs squawk alley nafta year finger job trump official country buying farm product negotiation month official week distraction plea trump lawyer michael cohen verdict campaign manager paul manafort president enrique pena nieto tweet advance negotiation canada talk sideline trade talk deal mexico mexico office amlo office hour trade deal monday way agreement nation president donald trump deal statesmexico trade agreement rid name trump deal mexico farmer manufacturer official washington issue trump administration push agreement mexico canada hope nafta government turnover im agreement carla representative negotiator cnbcs squawk alley nafta year finger job trump official country buying farm product negotiation month official week distraction plea trump lawyer michael cohen verdict campaign manager paul manafort president enrique pena nieto tweet advance negotiation canada talk sideline trade talk deal mexico epn tweet issue canada talk issue issue canada minister usmexico issue trump negotiation canada canada peso percent dollar share trade bellwether percent percent',\n",
       " ' gunman baltimore fire game tournament afternoon pizza jacksonville dozen others life sheriff mike williams williams shooter david body body report gunfire landing victim area hospital wound victim hospital wound hospital statement monday morning victim hospital victim condition news4jax source katz gamer baltimore area handgun authority baltimore katzs home sunday afternoon news4jax death williams account casualty pm briefing williams officer minute call riverfront mall lockdown jso people riverfront mall calm search jso twitter pm team search landing area gunman mall law enforcement personnel pm president firefighter union engine company area victim emergency call victim csx building halfmile victim hospital victim condition health center person injury condition place nfl tournament luck game room pizza dozen gunshot audio livestream tournament dot laser pointer chest player gunshot video medium video williams people video information please group tournament question founder ceo complexity company esports team twitter player drini gjoka thumb gjoka tourney leaving bullet day life sheriff office bomb squad robot swat team member parking garage street block landing williams office katzs vehicle threeblock radius mall everyone area rest day officer coast guard boat st john river police position bridge river florida gov rick scott president donald resource house spokeswoman sander trump house situation scott office woman son game room man gun scary someone mayor curry williams briefing prayer family life people curry witness law enforcement information incident number sheriff team councilman district shooting scene news jacksonville problem jacksonville gun violence issue city councilman gaffney solution gaffney mayor sheriff night raines school solution god im community gaffney statement jacksonville landing incident pray everyone jacksonville landing jacksonville sheriff office investigation',\n",
       " ' lawsuit harvard behalf student admission trial monday race case decade action policy country stake lawsuit advocate admission practice student goal supreme court case admission policy race student campus diversity party side court issue president donald appointee justice court justice landmark challenger edward blum activist series claim policy action lawsuit behalf abigail fisher university texas challenge voting right act justice anthony vote court admission university case kavanaugh month justice antonin scalia action university program case student admission group blum harvard case university balancing chance admission black hispanic chance american harvard practice group kind discrimination quota applicant assertion american standard applicant university advocate swath background experience side case lawsuit seek consideration race admission others argue university race campus diversity american tie country opportunity college defense fund brief behalf student organization black american american defense fund lawsuit effort division court endorsement case regent university california v ruling vote kennedy justice sandra day trump administration admission practice education justice department complaint group student admission country institution education balancing limit admission effort diversity part education mission admission officer wholeperson evaluation academic activity talent quality background race case side evidence testimony conclusion district court judge allison party relies expert report presence absence effect likelihood admission claim evidence intent burroughs order month request side trial case title vi right act discrimination institution fund appointee president barack obama trial week side statement monday',\n",
       " ' amantha remembers day trial version college part part hour résuméor hour top spent exercise home oneonone collegeapplication coach score practice test weeknight school twin bed school college prep hour homework apphysics problem thesis samantha name topic sophomore john hopkins university mile cincinnati home school shes majoring relation study centuryold baltimore campus home way parent somebody collegeadmissions process elite school student identity profile people application student identity background effort admission officer process people samantha parent consultant game system applicationjuicing service study help practice interview example whod admission system process didnt lie application effort personality student pressure getgo samantha tutor college counselor application advice violin playing stereotype instrument essay asian world lot essay samantha ive thing im hopkins im judge boston opening argument lawsuit attention detail admission process state harvard university applicant suit debate action court court fisher v university texas use race factor admission difference harvard case highprofile case others action applicant harvard suit idea action minority applicant harvard case student admission strategist ed blum student admission suit harvard evaluation thing student personality admission officer applicant analysis student data plaintiff court filing harvard applicant gpa test score involvement counterpart race approach admission officer candidate fact student victim discrimination case discrimination harvard court suit light crack foundation admission country lawsuit byproduct fact student spot college number american year candidate harvard slot disease people college college richard psychologist lecturer initiative child contributor back disease pressure harvard lawsuit symptom disease country handful university essay recommendation information candidate background character score effort number student campus scope purpose approach student form applicant lens contexther interest personality yes race parent background example way identity opportunity day college method inequality promote college access university policy brief highereducation professor michael admission goal study bastedo coresearchers journal education highereducation institution state admission student imprecise approach admission school school demand luxury applicant journal education half institution student addition score quarter approach admission majority college enrollment savant sea application',\n",
       " ' gatekeeper harvard program stand court monday day trial harvard use race factor admission decision fitzsimmons year admission school witness statement architect admission applicant credential activity experience attribute university model student trial lawsuit student admission member asianamericans group strategist edward blum challenge action case university carolina chapel harvard lawsuit school applicant standard student race allegation race factor trial week judge jury trial testimony harvard admission practice right law district judge allison burroughs ruling trial conclusion month decision fitzsimmons plaintiff lawyer monday tuesday applicant score group score factor harvard admission personality trait likability courage kindness investigation report decrease applicant chance admission harvard court filing rating factor teacher recommendation essay interview office research report trial judge admission president faust harvard college dean khurana witness economist side year harvard admission data conclusion applicant disadvantage race hundred protester activist rally boston rally copley square coalition education group lawsuit mr blum stage ovation parent thank harvard student asianamericans college harvard speech elimination race consideration college admission banner student organizer flag audience mile student others blue shirt defenddiversity group american action sign blum dont use asian agenda rally student trial harvard behalf action diversity campus experience speech chant erase race score']"
      ]
     },
     "execution_count": 31,
     "metadata": {},
     "output_type": "execute_result"
    }
   ],
   "source": [
    "documents_filtered"
   ]
  },
  {
   "cell_type": "markdown",
   "metadata": {},
   "source": [
    "각각의 cell이 tfidf에 대한 값을 포함하고 있는 행렬을 생성한다."
   ]
  },
  {
   "cell_type": "code",
   "execution_count": 32,
   "metadata": {},
   "outputs": [],
   "source": [
    "vectorizer_tfidf, doc_term_mat_tfidf = tfidf_extractor(documents_filtered) # 문서들을 TFIDF matrix로 변환"
   ]
  },
  {
   "cell_type": "code",
   "execution_count": 33,
   "metadata": {},
   "outputs": [],
   "source": [
    "vectorizer_tf, doc_term_mat_tf = tf_extractor(documents_filtered) # 문서들을 TF matrix로 변환"
   ]
  },
  {
   "cell_type": "code",
   "execution_count": 34,
   "metadata": {
    "scrolled": true
   },
   "outputs": [
    {
     "name": "stdout",
     "output_type": "stream",
     "text": [
      "  (0, 479)\t6\n",
      "  (0, 630)\t3\n",
      "  (0, 923)\t4\n",
      "  (0, 934)\t6\n",
      "  (0, 305)\t4\n",
      "  (0, 1026)\t6\n",
      "  (0, 1021)\t2\n",
      "  (0, 789)\t3\n",
      "  (0, 764)\t3\n",
      "  (0, 1068)\t1\n",
      "  (0, 344)\t9\n",
      "  (0, 397)\t2\n",
      "  (0, 668)\t6\n",
      "  (0, 388)\t3\n",
      "  (0, 392)\t9\n",
      "  (0, 712)\t6\n",
      "  (0, 1160)\t4\n",
      "  (0, 146)\t3\n",
      "  (0, 8)\t3\n",
      "  (0, 842)\t1\n",
      "  (0, 191)\t8\n",
      "  (0, 239)\t1\n",
      "  (0, 1117)\t1\n",
      "  (0, 1155)\t1\n",
      "  (0, 644)\t3\n",
      "  :\t:\n",
      "  (14, 604)\t1\n",
      "  (14, 577)\t1\n",
      "  (14, 300)\t1\n",
      "  (14, 837)\t1\n",
      "  (14, 408)\t1\n",
      "  (14, 290)\t1\n",
      "  (14, 574)\t1\n",
      "  (14, 316)\t1\n",
      "  (14, 813)\t1\n",
      "  (14, 831)\t3\n",
      "  (14, 260)\t1\n",
      "  (14, 986)\t1\n",
      "  (14, 208)\t1\n",
      "  (14, 719)\t1\n",
      "  (14, 1052)\t1\n",
      "  (14, 976)\t2\n",
      "  (14, 353)\t1\n",
      "  (14, 94)\t1\n",
      "  (14, 714)\t1\n",
      "  (14, 79)\t1\n",
      "  (14, 121)\t1\n",
      "  (14, 303)\t1\n",
      "  (14, 20)\t1\n",
      "  (14, 183)\t1\n",
      "  (14, 368)\t1\n"
     ]
    }
   ],
   "source": [
    "print(doc_term_mat_tf)"
   ]
  },
  {
   "cell_type": "markdown",
   "metadata": {},
   "source": [
    "dense array는 0을 포함한 array이다."
   ]
  },
  {
   "cell_type": "code",
   "execution_count": 36,
   "metadata": {},
   "outputs": [],
   "source": [
    "import numpy as np"
   ]
  },
  {
   "cell_type": "code",
   "execution_count": 37,
   "metadata": {},
   "outputs": [],
   "source": [
    "DTM_TF = np.array(doc_term_mat_tf.todense()) #dense array (즉, 0을 포함한 array)로 변환후 다시 numpy array로 변환"
   ]
  },
  {
   "cell_type": "code",
   "execution_count": 38,
   "metadata": {},
   "outputs": [
    {
     "data": {
      "text/plain": [
       "array([[0, 0, 0, ..., 0, 1, 1],\n",
       "       [0, 1, 0, ..., 0, 0, 0],\n",
       "       [0, 0, 0, ..., 0, 0, 0],\n",
       "       ...,\n",
       "       [1, 1, 1, ..., 0, 0, 0],\n",
       "       [0, 0, 0, ..., 0, 0, 0],\n",
       "       [0, 0, 0, ..., 0, 0, 0]])"
      ]
     },
     "execution_count": 38,
     "metadata": {},
     "output_type": "execute_result"
    }
   ],
   "source": [
    "DTM_TF"
   ]
  },
  {
   "cell_type": "markdown",
   "metadata": {},
   "source": [
    "문서의 수와 단어의 수를 알 수 있다."
   ]
  },
  {
   "cell_type": "code",
   "execution_count": 80,
   "metadata": {},
   "outputs": [
    {
     "data": {
      "text/plain": [
       "(15, 1165)"
      ]
     },
     "execution_count": 80,
     "metadata": {},
     "output_type": "execute_result"
    }
   ],
   "source": [
    "DTM_TF.shape"
   ]
  },
  {
   "cell_type": "code",
   "execution_count": 54,
   "metadata": {},
   "outputs": [],
   "source": [
    "DTM_TFIDF = np.array(doc_term_mat_tfidf.todense())"
   ]
  },
  {
   "cell_type": "code",
   "execution_count": 55,
   "metadata": {},
   "outputs": [
    {
     "data": {
      "text/plain": [
       "array([[0.        , 0.        , 0.        , ..., 0.        , 0.04116293,\n",
       "        0.04116293],\n",
       "       [0.        , 0.02776663, 0.        , ..., 0.        , 0.        ,\n",
       "        0.        ],\n",
       "       [0.        , 0.        , 0.        , ..., 0.        , 0.        ,\n",
       "        0.        ],\n",
       "       ...,\n",
       "       [0.04711425, 0.0409108 , 0.04711425, ..., 0.        , 0.        ,\n",
       "        0.        ],\n",
       "       [0.        , 0.        , 0.        , ..., 0.        , 0.        ,\n",
       "        0.        ],\n",
       "       [0.        , 0.        , 0.        , ..., 0.        , 0.        ,\n",
       "        0.        ]])"
      ]
     },
     "execution_count": 55,
     "metadata": {},
     "output_type": "execute_result"
    }
   ],
   "source": [
    "DTM_TFIDF"
   ]
  },
  {
   "cell_type": "markdown",
   "metadata": {},
   "source": [
    "거리가 짧을수록 더 유사한 벡터이다. 첫 번째와 두번째, 첫 번재와 네 번째, 첫 번째와 6번째 문서 간의 유클리디안 거리이며 이는 TF 값을 기준으로 계산한다."
   ]
  },
  {
   "cell_type": "code",
   "execution_count": 56,
   "metadata": {},
   "outputs": [
    {
     "name": "stdout",
     "output_type": "stream",
     "text": [
      "50.635955604688654 36.013886210738214 19.493588689617926\n"
     ]
    }
   ],
   "source": [
    "d1d2_tf = np.linalg.norm(DTM_TF[0]-DTM_TF[1])\n",
    "d1d4_tf = np.linalg.norm(DTM_TF[0]-DTM_TF[3])\n",
    "d1d6_tf = np.linalg.norm(DTM_TF[0]-DTM_TF[5])\n",
    "print(d1d2_tf, d1d4_tf, d1d6_tf)"
   ]
  },
  {
   "cell_type": "markdown",
   "metadata": {},
   "source": [
    "절대적인 값 자체는 중요하지 않다. 중요한 것은 상대적인 값의 차이이다. 아래의 결과를 보면 우리는 TFIDF값이 TF보다 더 타당성 있는 계산을 한다는 점을 유추해볼 수 있다."
   ]
  },
  {
   "cell_type": "code",
   "execution_count": 57,
   "metadata": {},
   "outputs": [
    {
     "name": "stdout",
     "output_type": "stream",
     "text": [
      "1.3819550784841121 1.3923266882534269 0.784074389523561\n"
     ]
    }
   ],
   "source": [
    "d1d2_tfidf = np.linalg.norm(DTM_TFIDF[0]-DTM_TFIDF[1])\n",
    "d1d4_tfidf = np.linalg.norm(DTM_TFIDF[0]-DTM_TFIDF[3])\n",
    "d1d6_tfidf = np.linalg.norm(DTM_TFIDF[0]-DTM_TFIDF[5])\n",
    "print(d1d2_tfidf, d1d4_tfidf, d1d6_tfidf)"
   ]
  },
  {
   "cell_type": "markdown",
   "metadata": {},
   "source": [
    "아래는 코사인 유사도 계산이다. 보면 잘 알 수 있는데, 코사인 유사도가 훨씬 더 직관적으로 이해하기 쉽게 유사도를 알려준다."
   ]
  },
  {
   "cell_type": "code",
   "execution_count": 58,
   "metadata": {},
   "outputs": [
    {
     "name": "stdout",
     "output_type": "stream",
     "text": [
      "0.0699569668707187 0.04300167238072299 0.7624928516630234\n"
     ]
    }
   ],
   "source": [
    "d1d2_cos_tf = np.dot(DTM_TF[0],DTM_TF[1])/(np.linalg.norm(DTM_TF[0])*np.linalg.norm(DTM_TF[1]))\n",
    "d1d4_cos_tf = np.dot(DTM_TF[0],DTM_TF[3])/(np.linalg.norm(DTM_TF[0])*np.linalg.norm(DTM_TF[3]))\n",
    "d1d6_cos_tf = np.dot(DTM_TF[0],DTM_TF[5])/(np.linalg.norm(DTM_TF[0])*np.linalg.norm(DTM_TF[5]))\n",
    "print(d1d2_cos_tf, d1d4_cos_tf, d1d6_cos_tf)"
   ]
  },
  {
   "cell_type": "code",
   "execution_count": 65,
   "metadata": {},
   "outputs": [
    {
     "name": "stdout",
     "output_type": "stream",
     "text": [
      "0.045100080525985194 0.030713196588621965 0.6926136758466276\n"
     ]
    }
   ],
   "source": [
    "d1d2_cos_tfidf = np.dot(DTM_TFIDF[0],DTM_TFIDF[1])/(np.linalg.norm(DTM_TFIDF[0])*np.linalg.norm(DTM_TFIDF[1]))\n",
    "d1d4_cos_tfidf = np.dot(DTM_TFIDF[0],DTM_TFIDF[3])/(np.linalg.norm(DTM_TFIDF[0])*np.linalg.norm(DTM_TFIDF[3]))\n",
    "d1d6_cos_tfidf = np.dot(DTM_TFIDF[0],DTM_TFIDF[5])/(np.linalg.norm(DTM_TFIDF[0])*np.linalg.norm(DTM_TFIDF[5]))\n",
    "print(d1d2_cos_tfidf, d1d4_cos_tfidf, d1d6_cos_tfidf)"
   ]
  },
  {
   "cell_type": "code",
   "execution_count": 60,
   "metadata": {},
   "outputs": [],
   "source": [
    "import numpy as np\n",
    "from sklearn.metrics.pairwise import cosine_similarity # cosine similarity 계산하기"
   ]
  },
  {
   "cell_type": "markdown",
   "metadata": {},
   "source": [
    "tfidf 방식을 이용한 문서들 간의 유사도 계산"
   ]
  },
  {
   "cell_type": "code",
   "execution_count": 67,
   "metadata": {},
   "outputs": [
    {
     "name": "stdout",
     "output_type": "stream",
     "text": [
      "[[0.04510008]] [[0.0307132]] [[0.69261368]] [[0.08835517]] [[0.02950616]]\n"
     ]
    }
   ],
   "source": [
    "d1d2_cos_idf = cosine_similarity(DTM_TFIDF[0].reshape(1,-1), DTM_TFIDF[1].reshape(1,-1))\n",
    "d1d4_cos_idf = cosine_similarity(DTM_TFIDF[0].reshape(1,-1), DTM_TFIDF[3].reshape(1,-1))\n",
    "d1d5_cos_idf = cosine_similarity(DTM_TFIDF[0].reshape(1,-1), DTM_TFIDF[5].reshape(1,-1))\n",
    "d1d7_cos_idf = cosine_similarity(DTM_TFIDF[0].reshape(1,-1), DTM_TFIDF[6].reshape(1,-1))\n",
    "d1d10_cos_idf = cosine_similarity(DTM_TFIDF[0].reshape(1,-1), DTM_TFIDF[9].reshape(1,-1))\n",
    "print(d1d2_cos_idf, d1d4_cos_idf, d1d5_cos_idf, d1d7_cos_idf, d1d10_cos_idf)"
   ]
  },
  {
   "cell_type": "markdown",
   "metadata": {},
   "source": [
    "이제 K-Means를 계산하자. 이때, 먼저 KMeans와 동일한 카피본의 변수를 만들어야 한다. 중요한 파라미터는 'n_clusters'인데, 이를 통해서 우리는 사전에 몇 개의 군집으로 나눌지 지정할 수 있다. "
   ]
  },
  {
   "cell_type": "code",
   "execution_count": 68,
   "metadata": {},
   "outputs": [],
   "source": [
    "from sklearn.cluster import KMeans\n",
    "kmeans = KMeans(n_clusters=4, max_iter=10, random_state=0)\n",
    "clusters = kmeans.fit_predict(DTM_TFIDF) # KMeans 알고리즘으로 학습"
   ]
  },
  {
   "cell_type": "markdown",
   "metadata": {},
   "source": [
    "아래의 숫자들은 군집의 ID이다. 즉 각각의 문서들이 어떠한 ID를 가지고 있는지에 따라서 군집이 나뉘어진 것이다."
   ]
  },
  {
   "cell_type": "code",
   "execution_count": 71,
   "metadata": {},
   "outputs": [
    {
     "data": {
      "text/plain": [
       "array([2, 3, 2, 3, 2, 2, 1, 1, 3, 3, 1, 3, 0, 0, 0], dtype=int32)"
      ]
     },
     "execution_count": 71,
     "metadata": {},
     "output_type": "execute_result"
    }
   ],
   "source": [
    "clusters"
   ]
  },
  {
   "cell_type": "code",
   "execution_count": 72,
   "metadata": {},
   "outputs": [],
   "source": [
    "from sklearn.cluster import KMeans\n",
    "kmeans = KMeans(n_clusters=5, max_iter=10, random_state=0)\n",
    "clusters = kmeans.fit_predict(DTM_TFIDF) # KMeans 알고리즘으로 학습"
   ]
  },
  {
   "cell_type": "markdown",
   "metadata": {},
   "source": [
    "이번에는 K의 값을 5로 지정해서 한 것이다. 이러한 결과를 통해서 우리가 직접 주제를 알 수는 없다."
   ]
  },
  {
   "cell_type": "code",
   "execution_count": 73,
   "metadata": {},
   "outputs": [
    {
     "data": {
      "text/plain": [
       "array([2, 3, 2, 3, 2, 2, 1, 1, 4, 4, 1, 4, 0, 0, 0], dtype=int32)"
      ]
     },
     "execution_count": 73,
     "metadata": {},
     "output_type": "execute_result"
    }
   ],
   "source": [
    "clusters"
   ]
  },
  {
   "cell_type": "markdown",
   "metadata": {},
   "source": [
    "현실적으로는, 연구할 때 K의 값을 크게 지정한다. 그리고 사람이 살펴보고, 만약 직관과 다른 결과가 들어있는 분석이라면 배제하는 방식으로 최종적으로 직관 혹은 이론과 가장 유사한 결과물들을 가지고 비교하는 수밖에 없다."
   ]
  },
  {
   "cell_type": "code",
   "execution_count": null,
   "metadata": {},
   "outputs": [],
   "source": []
  }
 ],
 "metadata": {
  "kernelspec": {
   "display_name": "Python 3",
   "language": "python",
   "name": "python3"
  },
  "language_info": {
   "codemirror_mode": {
    "name": "ipython",
    "version": 3
   },
   "file_extension": ".py",
   "mimetype": "text/x-python",
   "name": "python",
   "nbconvert_exporter": "python",
   "pygments_lexer": "ipython3",
   "version": "3.7.4"
  }
 },
 "nbformat": 4,
 "nbformat_minor": 2
}
