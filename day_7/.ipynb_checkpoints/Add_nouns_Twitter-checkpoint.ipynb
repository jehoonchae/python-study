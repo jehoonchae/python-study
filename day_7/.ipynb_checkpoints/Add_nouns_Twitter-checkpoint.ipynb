{
 "cells": [
  {
   "cell_type": "code",
   "execution_count": 2,
   "metadata": {},
   "outputs": [],
   "source": [
    "from soynlp.noun import LRNounExtractor_v2\n",
    "import re"
   ]
  },
  {
   "cell_type": "markdown",
   "metadata": {},
   "source": [
    "## 이 모듈의 경우에는 파라미터로 텍스트를 넣을때, 문장 단위로 쪼개서 넣어야한다."
   ]
  },
  {
   "cell_type": "code",
   "execution_count": 3,
   "metadata": {},
   "outputs": [],
   "source": [
    "def get_sentences(text):\n",
    "    sentences = re.split(r'[\\.\\?\\!]\\s+', text)\n",
    "    return sentences"
   ]
  },
  {
   "cell_type": "markdown",
   "metadata": {},
   "source": [
    "### 이렇게 문장 단위로 쪼개준다."
   ]
  },
  {
   "cell_type": "code",
   "execution_count": 4,
   "metadata": {},
   "outputs": [
    {
     "name": "stdout",
     "output_type": "stream",
     "text": [
      "['이언주 바른미래당 의원은 7일 드루킹 특검에 소환됐던 김경수 경남지사를 향해 \"아직도 자신들이 군부독재정권에 저항하는 투사인 줄 착각하고 있다\"고 비난했다', '이 의원은 이날 자신의 사회관계망서비스(SNS) 페이스북을 통해 \"이들은 수구세력일 뿐\"이라며 이같이 밝혔다', '이 의원은 또 \"이 시대착오적인 운동권 세력들이 나라의 곳곳에 최고 의사결정권을 갖고 있으니 이 일을 어쩌겠나', '우리 아이들이 뭘 배우겠나\"라고 보탰다', '김 지사는 지난 6일 드루킹 댓글 여론조작사건의 공모혐의로 특검팀에 피의자 신분으로 소환돼 조사를 받았다', '특검팀은 김 지사를 재소환할 방침을 밝히기도 했다', '반면 김 지사는 이날 자신의 페이스북을 통해 \"장미꽃과 가시, 이제는 어떤 길을 가더라도 늘 조심하고 경계하며 걸어가라는 뜻인 것 같다', '가시밭길 위에 놓인 장미꽃, 그 꽃에 담아주신 마음들 가슴에 꼭 새겨두겠다\"고 밝혔다.']\n"
     ]
    }
   ],
   "source": [
    "example_text = '이언주 바른미래당 의원은 7일 드루킹 특검에 소환됐던 김경수 경남지사를 향해 \"아직도 자신들이 군부독재정권에 저항하는 투사인 줄 착각하고 있다\"고 비난했다. 이 의원은 이날 자신의 사회관계망서비스(SNS) 페이스북을 통해 \"이들은 수구세력일 뿐\"이라며 이같이 밝혔다. 이 의원은 또 \"이 시대착오적인 운동권 세력들이 나라의 곳곳에 최고 의사결정권을 갖고 있으니 이 일을 어쩌겠나. 우리 아이들이 뭘 배우겠나\"라고 보탰다. 김 지사는 지난 6일 드루킹 댓글 여론조작사건의 공모혐의로 특검팀에 피의자 신분으로 소환돼 조사를 받았다. 특검팀은 김 지사를 재소환할 방침을 밝히기도 했다. 반면 김 지사는 이날 자신의 페이스북을 통해 \"장미꽃과 가시, 이제는 어떤 길을 가더라도 늘 조심하고 경계하며 걸어가라는 뜻인 것 같다. 가시밭길 위에 놓인 장미꽃, 그 꽃에 담아주신 마음들 가슴에 꼭 새겨두겠다\"고 밝혔다.'\n",
    "sents = get_sentences(example_text)\n",
    "print(sents)"
   ]
  },
  {
   "cell_type": "markdown",
   "metadata": {},
   "source": [
    "## 이건 좋은점이, 스코어를 제공한다. 스코어가 높을수록 명사일 확률이 더 높은것."
   ]
  },
  {
   "cell_type": "code",
   "execution_count": 5,
   "metadata": {},
   "outputs": [
    {
     "name": "stdout",
     "output_type": "stream",
     "text": [
      "[Noun Extractor] use default predictors\n",
      "[Noun Extractor] num features: pos=1260, neg=1173, common=12\n",
      "[Noun Extractor] counting eojeols\n",
      "[EojeolCounter] n eojeol = 84 from 8 sents. mem=0.061 Gb                    \n",
      "[Noun Extractor] complete eojeol counter -> lr graph\n",
      "[Noun Extractor] has been trained. mem=0.061 Gb\n",
      "[Noun Extractor] batch prediction was completed for 46 words\n",
      "[Noun Extractor] checked compounds. discovered 0 compounds\n",
      "[Noun Extractor] postprocessing detaching_features : 4 -> 4\n",
      "[Noun Extractor] postprocessing ignore_features : 4 -> 4\n",
      "[Noun Extractor] postprocessing ignore_NJ : 4 -> 4\n",
      "[Noun Extractor] 4 nouns (0 compounds) with min frequency=1\n",
      "[Noun Extractor] flushing was done. mem=0.061 Gb                    \n",
      "[Noun Extractor] 10.87 % eojeols are covered\n",
      "{'특검팀': NounScore(frequency=2, score=1.0), '소환': NounScore(frequency=2, score=1.0), '지사': NounScore(frequency=3, score=1.0), '자신': NounScore(frequency=2, score=0.6666666666666666)}\n"
     ]
    }
   ],
   "source": [
    "noun_extractor = LRNounExtractor_v2(verbose=True)\n",
    "nouns = noun_extractor.train_extract(sents)\n",
    "print(nouns)"
   ]
  },
  {
   "cell_type": "code",
   "execution_count": 6,
   "metadata": {},
   "outputs": [
    {
     "name": "stderr",
     "output_type": "stream",
     "text": [
      "/anaconda3/lib/python3.6/site-packages/konlpy/tag/_okt.py:16: UserWarning: \"Twitter\" has changed to \"Okt\" since KoNLPy v0.4.5.\n",
      "  warn('\"Twitter\" has changed to \"Okt\" since KoNLPy v0.4.5.')\n"
     ]
    }
   ],
   "source": [
    "from ckonlpy.tag import Twitter\n",
    "twitter = Twitter()"
   ]
  },
  {
   "cell_type": "code",
   "execution_count": 7,
   "metadata": {},
   "outputs": [
    {
     "name": "stdout",
     "output_type": "stream",
     "text": [
      "[('특검', 'Noun'), ('은', 'Josa'), ('특검', 'Noun'), ('팀', 'Noun'), ('을', 'Josa'), ('구성', 'Noun'), ('했다', 'Verb'), ('.', 'Punctuation')]\n"
     ]
    }
   ],
   "source": [
    "text1 = \"특검은 특검팀을 구성했다.\"\n",
    "print(twitter.pos(text1))"
   ]
  },
  {
   "cell_type": "code",
   "execution_count": 8,
   "metadata": {},
   "outputs": [
    {
     "name": "stdout",
     "output_type": "stream",
     "text": [
      "특검팀\n",
      "소환\n",
      "지사\n",
      "자신\n"
     ]
    }
   ],
   "source": [
    "for noun in nouns:\n",
    "    print(noun)\n",
    "    twitter.add_dictionary(noun, 'Noun')"
   ]
  },
  {
   "cell_type": "code",
   "execution_count": 9,
   "metadata": {},
   "outputs": [
    {
     "name": "stdout",
     "output_type": "stream",
     "text": [
      "[('특검', 'Noun'), ('은', 'Josa'), ('특검팀', 'Noun'), ('을', 'Josa'), ('구성', 'Noun'), ('했다', 'Verb'), ('.', 'Punctuation')]\n"
     ]
    }
   ],
   "source": [
    "print(twitter.pos(text1))"
   ]
  },
  {
   "cell_type": "code",
   "execution_count": null,
   "metadata": {
    "collapsed": true
   },
   "outputs": [],
   "source": []
  }
 ],
 "metadata": {
  "kernelspec": {
   "display_name": "Python 3",
   "language": "python",
   "name": "python3"
  },
  "language_info": {
   "codemirror_mode": {
    "name": "ipython",
    "version": 3
   },
   "file_extension": ".py",
   "mimetype": "text/x-python",
   "name": "python",
   "nbconvert_exporter": "python",
   "pygments_lexer": "ipython3",
   "version": "3.7.4"
  }
 },
 "nbformat": 4,
 "nbformat_minor": 2
}
