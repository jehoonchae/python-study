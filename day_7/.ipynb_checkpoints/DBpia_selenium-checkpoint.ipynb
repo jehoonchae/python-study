{
 "cells": [
  {
   "cell_type": "code",
   "execution_count": null,
   "metadata": {},
   "outputs": [],
   "source": [
    "from bs4 import BeautifulSoup\n",
    "from selenium import webdriver\n",
    "import time"
   ]
  },
  {
   "cell_type": "code",
   "execution_count": null,
   "metadata": {},
   "outputs": [],
   "source": [
    "driver = webdriver.Chrome('/Users/jehoonchae/Dropbox/Pycharm/chromedriver_mac64/chromedriver')\n",
    "url = 'http://www.dbpia.co.kr/journal/publicationDetail?publicationId=PLCT00006711'\n",
    "driver.get(url)\n",
    "# sleep_time = random.random()*3\n",
    "time.sleep(3)\n",
    "for i in range(20):\n",
    "    for j in range(4):\n",
    "        # driver.execute_script(\"window.scrollTo(0, 0)\")\n",
    "        driver.find_element_by_xpath(f'//*[@id=\"voisList\"]/li[{i+2}]/a').click()\n",
    "        driver.find_element_by_xpath(f'//*[@id=\"voisList\"]/li[2]/div/div/ul/li[{j+1}]/a').click()\n",
    "        time.sleep(1)\n",
    "        html = driver.page_source\n",
    "        soup = BeautifulSoup(html, 'lxml')\n",
    "        page_num = soup.find('div', class_='infoWrap').find_all('dl')[-1].find('dd').text\n",
    "        for k in range(int(page_num)):\n",
    "            driver.find_element_by_xpath(f'//*[@id=\"voisNodeList\"]/ul/li[{k+1}]/div/div[2]/h5/a').click()\n",
    "            time.sleep(1)\n",
    "            html = driver.page_source\n",
    "            soup = BeautifulSoup(html, 'lxml')\n",
    "            ############\n",
    "            if soup.find('p', class_='woiaejf') == None:\n",
    "                continue\n",
    "            else:\n",
    "                \n",
    "            ############\n",
    "            driver.back()\n",
    "            time.sleep(1)"
   ]
  }
 ],
 "metadata": {
  "kernelspec": {
   "display_name": "Python 3",
   "language": "python",
   "name": "python3"
  },
  "language_info": {
   "codemirror_mode": {
    "name": "ipython",
    "version": 3
   },
   "file_extension": ".py",
   "mimetype": "text/x-python",
   "name": "python",
   "nbconvert_exporter": "python",
   "pygments_lexer": "ipython3",
   "version": "3.7.4"
  }
 },
 "nbformat": 4,
 "nbformat_minor": 2
}
